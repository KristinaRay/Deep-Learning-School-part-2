{
 "cells": [
  {
   "cell_type": "markdown",
   "metadata": {
    "id": "tWJTCBu4Tveb"
   },
   "source": [
    "<img src=\"https://static.wixstatic.com/media/66c28f_db7a1ba3e35b4b17a6688472c889b7bf~mv2_d_2777_1254_s_2.png/v1/fill/w_710,h_320,al_c,q_85,usm_0.66_1.00_0.01/logo_yellow_white.webp\" width=1000, height=450>\n",
    "<h3 style=\"text-align: center;\"><b>Физтех-Школа Прикладной математики и информатики (ФПМИ) МФТИ</b></h3>"
   ]
  },
  {
   "cell_type": "markdown",
   "metadata": {
    "id": "Kmb8UhIzOnfK"
   },
   "source": [
    "# Text Summarization\n",
    "\n",
    "Всем привет! Сегодня мы познакомимся с задачей суммаризации текста на примере генерации \"сжатых\" новостей. Рассмотрим некоторые базовые решения и познакомимся с архитектурами нейросетей для решения задачи.\n",
    "Датасет: gazeta.ru\n",
    "\n",
    "\n",
    "`Ноутбук создан на основе семинара Гусева Ильи на кафедре компьютерной лингвистики ABBYY МФТИ.`\n",
    "\n",
    "Загрузим датасет и необходимые библиотеки"
   ]
  },
  {
   "cell_type": "code",
   "execution_count": 1,
   "metadata": {
    "id": "OqkLTkFRfXvA"
   },
   "outputs": [],
   "source": [
    "!wget -q https://www.dropbox.com/s/43l702z5a5i2w8j/gazeta_train.txt\n",
    "!wget -q https://www.dropbox.com/s/k2egt3sug0hb185/gazeta_val.txt\n",
    "!wget -q https://www.dropbox.com/s/3gki5n5djs9w0v6/gazeta_test.txt"
   ]
  },
  {
   "cell_type": "code",
   "execution_count": 2,
   "metadata": {
    "colab": {
     "base_uri": "https://localhost:8080/"
    },
    "id": "SXS1sdYZCluU",
    "outputId": "eb6347da-cff8-4449-962a-084ac3406be0"
   },
   "outputs": [
    {
     "name": "stdout",
     "output_type": "stream",
     "text": [
      "\u001b[K     |████████████████████████████████| 61kB 5.8MB/s \n",
      "\u001b[K     |████████████████████████████████| 61kB 9.6MB/s \n",
      "\u001b[K     |████████████████████████████████| 8.2MB 11.0MB/s \n",
      "\u001b[?25h  Building wheel for summa (setup.py) ... \u001b[?25l\u001b[?25hdone\n"
     ]
    }
   ],
   "source": [
    "!pip -q install razdel networkx pymorphy2 nltk rouge==0.3.1 summa "
   ]
  },
  {
   "cell_type": "markdown",
   "metadata": {
    "id": "Wa0NfryxbPUP"
   },
   "source": [
    "## Dataset"
   ]
  },
  {
   "cell_type": "markdown",
   "metadata": {
    "id": "eesnclfDDV3F"
   },
   "source": [
    "Посмотрим на то, как устроен датасет"
   ]
  },
  {
   "cell_type": "code",
   "execution_count": 3,
   "metadata": {
    "colab": {
     "base_uri": "https://localhost:8080/"
    },
    "id": "Mz6CZYKQhnd-",
    "outputId": "df14ce61-b0e6-4eef-a6b9-96a0cc88d634"
   },
   "outputs": [
    {
     "name": "stdout",
     "output_type": "stream",
     "text": [
      "{\"url\": \"https://www.gazeta.ru/financial/2011/11/30/3852658.shtml\", \"text\": \"«По итогам 2011 года чистый отток может составить примерно $80 млрд, в следующем году — около $20 млрд. При этом мы ожидаем, что со второго полугодия 2012 года начнется приток капитала», — заявил «Интерфаксу» замминистра экономического развития Андрей Клепач. Официальные прогнозы по выводу капитала из России становятся все пессимистичными: еще летом власти полагали, что из страны уйдет не более $35 млрд, в сентябре Минэкономразвития назвал цифру $50 млрд, в начале ноября Центробанк пересмотрел оценку до $70 млрд. Очередное изменение прогноза было ожидаемо: по расчетам Центробанка , за январь — октябрь чистый отток капитала достиг $64 млрд, причем в последние месяцы он ускорился: в сентябре он составил $14 млрд, в октябре — $13 млрд против среднего ежемесячного оттока в $6—8 млрд в первом полугодии. «После октябрьских данных Минэкономразвития вынуждено было изменить оценку, настаивать на $70 млрд означало ожидать серьезного замедления оттока капитала на непонятно каких причинах», — говорит главный экономист BNP Paribas Юлия Цепляева. «В последние два месяца отток капитала ускорится, на декабрь приходится значительная часть выплат по внешним долгам, что приводит к усилению оттока, особенно если они не рефинансируются новыми кредитами», — соглашается главный экономист ФК «Открытие» Владимир Тихомиров. Прогнозируемый Минэкономразвития отток капитала — один из самых высоких за последние 20 лет. Больше ушло лишь в 2008 году на фоне разрастания финансового кризиса и российско-грузинской войны — $133,7 млрд. В кризисный 2009 год из России утекло $56,1 млрд. Главный фактор ускорения оттока капитала в 2011 году — нестабильность на внешних финансовых рынках и рост опасений относительно второй волны рецессии. «Это реакция на неуверенность, которую генерирует Европа с долговыми проблемами. В случае новой волны глобальной турбулентности Россия — одна из самых уязвимых стран», — говорит Цепляева. Еще одна причина — ослабление рубля. «Привлекательность вложений снижается на фоне того, что рубль перестал укрепляться, а ставки по депозитам достаточно низкие. В результате экспортеры не полностью возвращают экспортную выручку», — говорит Тихомиров. Внутри страны эксперты не видят особых причин для бегства капитала. «Ситуация выглядит достаточно позитивно, очень хорошие макроэкономические результаты за год, особенно на фоне других стран. С политической точки зрения все достаточно понятно и предсказуемо, итог выборов очевиден», — говорит экономист ИК «Тройка Диалог» Антон Струченевский. Тем не менее политический фактор играет роль. «Бизнесу важно не только, кто будет президентом, он ждет ясности с перестановками в правительстве. В наших условиях административный ресурс важнее всего для успешности бизнеса», — говорит Цепляева, добавляя, что отток капитала продолжится до завершения президентских выборов.\", \"title\": \"Прогноз не успевает за оттоком\", \"summary\": \"В 2011 году из России уйдет $80 млрд, считают в Минэкономразвития. Менее месяца назад Центробанк давал оценку $70 млрд, повысив первоначальный прогноз вдвое. Отток капитала из страны усиливается из-за кризиса в Европе, а в декабре российским компаниям выплачивать внешние долги. На движение капитала повлияли и выборы: несмотря на их предсказуемость, бизнес хочет ясности с перестановками в правительстве.\", \"date\": \"2011-11-30 18:33:39\"}\n",
      "52400\n",
      "5265\n",
      "5770\n"
     ]
    }
   ],
   "source": [
    "!head -n 1 gazeta_train.txt\n",
    "!cat gazeta_train.txt | wc -l\n",
    "!cat gazeta_val.txt | wc -l\n",
    "!cat gazeta_test.txt | wc -l"
   ]
  },
  {
   "cell_type": "code",
   "execution_count": 4,
   "metadata": {
    "id": "5pZ2UGS2DGjH"
   },
   "outputs": [],
   "source": [
    "# Importing libraries\n",
    "import json\n",
    "import random\n",
    "import math\n",
    "import razdel\n",
    "from nltk.translate.bleu_score import corpus_bleu\n",
    "from rouge import Rouge\n",
    "\n",
    "from tqdm.notebook import tqdm\n",
    "import torch\n",
    "import numpy as np\n",
    "\n",
    "import time \n",
    "import torch.nn as nn\n",
    "import torch.nn.functional as F\n",
    "import torch.optim as optim\n",
    "from torch.autograd import Variable\n",
    "from numpy import exp\n",
    "from torch.nn.utils.rnn import pack_padded_sequence as pack\n",
    "from torch.nn.utils.rnn import pad_packed_sequence as unpack\n",
    "import copy\n",
    "\n",
    "def read_gazeta_records(file_name, shuffle=True, sort_by_date=False):\n",
    "    assert shuffle != sort_by_date\n",
    "    records = []\n",
    "    with open(file_name, \"r\") as r:\n",
    "        for line in r:\n",
    "            records.append(json.loads(line))\n",
    "    if sort_by_date:\n",
    "        records.sort(key=lambda x: x[\"date\"])\n",
    "    if shuffle:\n",
    "        random.shuffle\n",
    "    return records"
   ]
  },
  {
   "cell_type": "code",
   "execution_count": 5,
   "metadata": {
    "id": "GNDp-BunEA91"
   },
   "outputs": [],
   "source": [
    "train_records = read_gazeta_records(\"gazeta_train.txt\")\n",
    "val_records = read_gazeta_records(\"gazeta_val.txt\")\n",
    "test_records = read_gazeta_records(\"gazeta_test.txt\")"
   ]
  },
  {
   "cell_type": "code",
   "execution_count": 6,
   "metadata": {
    "id": "397gjsNfFBZ_"
   },
   "outputs": [],
   "source": [
    "def calc_scores(references, predictions, metric=\"all\"):\n",
    "    print(\"Count:\", len(predictions))\n",
    "    print(\"Ref:\", references[-1])\n",
    "    print(\"Hyp:\", predictions[-1])\n",
    "\n",
    "    if metric in (\"bleu\", \"all\"):\n",
    "        print(\"BLEU: \", corpus_bleu([[r] for r in references], predictions))\n",
    "    if metric in (\"rouge\", \"all\"):\n",
    "        rouge = Rouge()\n",
    "        scores = rouge.get_scores(predictions, references, avg=True)\n",
    "        print(\"ROUGE: \", scores)"
   ]
  },
  {
   "cell_type": "markdown",
   "metadata": {
    "id": "aaJKNsUGFBaA"
   },
   "source": [
    "## Extractive RNN"
   ]
  },
  {
   "cell_type": "markdown",
   "metadata": {
    "id": "l3izlm8HFBaC"
   },
   "source": [
    "### BPE\n",
    "Для начала сделаем BPE токенизацию"
   ]
  },
  {
   "cell_type": "code",
   "execution_count": 7,
   "metadata": {
    "colab": {
     "base_uri": "https://localhost:8080/"
    },
    "id": "2DMVtloWFBaC",
    "outputId": "ce36e72a-dcd4-4383-d574-3ba734274d71"
   },
   "outputs": [
    {
     "name": "stdout",
     "output_type": "stream",
     "text": [
      "Collecting youtokentome\n",
      "\u001b[?25l  Downloading https://files.pythonhosted.org/packages/c8/1c/224cdc3d9a32ed706c8fb1f30b491be6ea5da114ff4edc174014cc24fa43/youtokentome-1.0.6-cp37-cp37m-manylinux2010_x86_64.whl (1.7MB)\n",
      "\u001b[K     |████████████████████████████████| 1.7MB 9.1MB/s \n",
      "\u001b[?25hRequirement already satisfied: Click>=7.0 in /usr/local/lib/python3.7/dist-packages (from youtokentome) (7.1.2)\n",
      "Installing collected packages: youtokentome\n",
      "Successfully installed youtokentome-1.0.6\n"
     ]
    }
   ],
   "source": [
    "!pip install youtokentome"
   ]
  },
  {
   "cell_type": "code",
   "execution_count": 8,
   "metadata": {
    "id": "Yg9T6q0wFBaF"
   },
   "outputs": [],
   "source": [
    "import youtokentome as yttm\n",
    "def train_bpe(records, model_path, model_type=\"bpe\", vocab_size=10000, lower=True):\n",
    "    temp_file_name = \"temp.txt\"\n",
    "    with open(temp_file_name, \"w\") as temp:\n",
    "        for record in records:\n",
    "            text, summary = record['text'], record['summary']\n",
    "            if lower:\n",
    "                summary = summary.lower()\n",
    "                text = text.lower()\n",
    "            if not text or not summary:\n",
    "                continue\n",
    "            temp.write(text + \"\\n\")\n",
    "            temp.write(summary + \"\\n\")\n",
    "    yttm.BPE.train(data=temp_file_name, vocab_size=vocab_size, model=model_path)\n",
    "\n",
    "train_bpe(train_records, \"BPE_model.bin\")"
   ]
  },
  {
   "cell_type": "markdown",
   "metadata": {
    "id": "jJFAJHTtFBaF"
   },
   "source": [
    "### Словарь\n",
    "Составим словарь для индексации токенов"
   ]
  },
  {
   "cell_type": "code",
   "execution_count": 9,
   "metadata": {
    "id": "MueXtatmFBaG"
   },
   "outputs": [],
   "source": [
    "bpe_processor = yttm.BPE('BPE_model.bin')\n",
    "vocabulary = bpe_processor.vocab()"
   ]
  },
  {
   "cell_type": "markdown",
   "metadata": {
    "id": "Z_C_p7tHFBaH"
   },
   "source": [
    "### Кэш oracle summary\n",
    "Закэшируем oracle summary, чтобы не пересчитывать их каждый раз"
   ]
  },
  {
   "cell_type": "code",
   "execution_count": 10,
   "metadata": {
    "colab": {
     "base_uri": "https://localhost:8080/",
     "height": 113,
     "referenced_widgets": [
      "4fd0245bcca742e9b08b2114b3640ada",
      "f49374b048b142eab57256aedafd0a79",
      "e501687de7f94c7c851fdc37518db916",
      "9e741c4e265148ea9a07d14483f867e8",
      "b69c0a36a3ee4ccfa9978051b2518f7c",
      "22b0da7bbd6d45f59b20a23a052e3814",
      "262b57fb244e462e956def4c1bc8e8d9",
      "b912e81d83c448d9b42325ed544d6ba6",
      "576c092af0c945d8b96fc3ce1eb1bad6",
      "be377859ba0442c683b728bea116eef4",
      "d5092ce65ca24e6f8de4c269d2b4edad",
      "78957e42ac034514b93422e1ef79fd4b",
      "9a91aaa250434eeebe2fd88df6c49473",
      "4ba0196bcf0f404082bff0d522557f09",
      "5072603bc2744c74aa64b52638946b7f",
      "e0fe1bbce02e4e83ae0f7ff7a33c2492",
      "f9e6d428a00c4ea99eed72fcbcfe752e",
      "a17512c911574434bfe33d0ff229fbb2",
      "128bb7fd0184407ab6ccb2c394a0475f",
      "1827e0af1c88436aacad270935cb66b7",
      "f17ab679db72466ba4cea6ba018a97b5",
      "911998dc3b1f49ab9a4eae9b9eda3f02",
      "852c7e32611942bdbd200a717ed061bb",
      "a7970247c902440a8a0b8dfc02456b8f"
     ]
    },
    "id": "Fp23tuPbFBaH",
    "outputId": "6d4aeb65-170f-4625-c63c-0442f3683645"
   },
   "outputs": [
    {
     "data": {
      "application/vnd.jupyter.widget-view+json": {
       "model_id": "4fd0245bcca742e9b08b2114b3640ada",
       "version_major": 2,
       "version_minor": 0
      },
      "text/plain": [
       "HBox(children=(FloatProgress(value=1.0, bar_style='info', max=1.0), HTML(value='')))"
      ]
     },
     "metadata": {
      "tags": []
     },
     "output_type": "display_data"
    },
    {
     "data": {
      "application/vnd.jupyter.widget-view+json": {
       "model_id": "576c092af0c945d8b96fc3ce1eb1bad6",
       "version_major": 2,
       "version_minor": 0
      },
      "text/plain": [
       "HBox(children=(FloatProgress(value=1.0, bar_style='info', max=1.0), HTML(value='')))"
      ]
     },
     "metadata": {
      "tags": []
     },
     "output_type": "display_data"
    },
    {
     "data": {
      "application/vnd.jupyter.widget-view+json": {
       "model_id": "f9e6d428a00c4ea99eed72fcbcfe752e",
       "version_major": 2,
       "version_minor": 0
      },
      "text/plain": [
       "HBox(children=(FloatProgress(value=1.0, bar_style='info', max=1.0), HTML(value='')))"
      ]
     },
     "metadata": {
      "tags": []
     },
     "output_type": "display_data"
    }
   ],
   "source": [
    "def build_oracle_summary_greedy(text, gold_summary, calc_score, lower=True, max_sentences=30):\n",
    "    '''\n",
    "    Жадное построение oracle summary\n",
    "    '''\n",
    "    gold_summary = gold_summary.lower() if lower else gold_summary\n",
    "    # Делим текст на предложения\n",
    "    sentences = [sentence.text.lower() if lower else sentence.text for sentence in razdel.sentenize(text)][:max_sentences]\n",
    "    n_sentences = len(sentences)\n",
    "    oracle_summary_sentences = set()\n",
    "    \n",
    "    score = -1.0\n",
    "    summaries = []\n",
    "    for _ in range(n_sentences):\n",
    "        for i in range(n_sentences):\n",
    "            if i in oracle_summary_sentences:\n",
    "                continue\n",
    "            current_summary_sentences = copy.copy(oracle_summary_sentences)\n",
    "            # Добавляем какое-то предложения к уже существующему summary\n",
    "            current_summary_sentences.add(i)\n",
    "            current_summary = \" \".join([sentences[index] for index in sorted(list(current_summary_sentences))])\n",
    "            # Считаем метрики\n",
    "            current_score = calc_score(current_summary, gold_summary)\n",
    "            summaries.append((current_score, current_summary_sentences))\n",
    "        # Если получилось улучшить метрики с добавлением какого-либо предложения, то пробуем добавить ещё\n",
    "        # Иначе на этом заканчиваем\n",
    "        best_summary_score, best_summary_sentences = max(summaries)\n",
    "        if best_summary_score <= score:\n",
    "            break\n",
    "        oracle_summary_sentences = best_summary_sentences\n",
    "        score = best_summary_score\n",
    "    oracle_summary = \" \".join([sentences[index] for index in sorted(list(oracle_summary_sentences))])\n",
    "    return oracle_summary, oracle_summary_sentences\n",
    "\n",
    "def calc_single_score(pred_summary, gold_summary, rouge):\n",
    "    return rouge.get_scores([pred_summary], [gold_summary], avg=True)['rouge-2']['f']\n",
    "\n",
    "def add_oracle_summary_to_records(records, max_sentences=30, lower=True, nrows=1000):\n",
    "    rouge = Rouge()\n",
    "    for i, record in tqdm(enumerate(records)):\n",
    "        if i >= nrows:\n",
    "            break\n",
    "        text = record[\"text\"]\n",
    "        summary = record[\"summary\"]\n",
    "\n",
    "        summary = summary.lower() if lower else summary\n",
    "        sentences = [sentence.text.lower() if lower else sentence.text for sentence in razdel.sentenize(text)][:max_sentences]\n",
    "        oracle_summary, sentences_indicies = build_oracle_summary_greedy(text, summary, calc_score=lambda x, y: calc_single_score(x, y, rouge),\n",
    "                                                                         lower=lower, max_sentences=max_sentences)\n",
    "        record[\"sentences\"] = sentences\n",
    "        record[\"oracle_sentences\"] = list(sentences_indicies)\n",
    "        record[\"oracle_summary\"] = oracle_summary\n",
    "\n",
    "    return records[:nrows]\n",
    "\n",
    "ext_train_records = add_oracle_summary_to_records(train_records, nrows=2048)\n",
    "ext_val_records = add_oracle_summary_to_records(val_records, nrows=256)\n",
    "ext_test_records = add_oracle_summary_to_records(test_records, nrows=256)"
   ]
  },
  {
   "cell_type": "markdown",
   "metadata": {
    "id": "UlXXc8qUHC5m"
   },
   "source": [
    "### Составление батчей"
   ]
  },
  {
   "cell_type": "code",
   "execution_count": null,
   "metadata": {
    "id": "DBYHu84SidfP"
   },
   "outputs": [],
   "source": [
    "# Class counts\n",
    "#class_0_count = tensor(53870.)\n",
    "#class_1_count = tensor(4487.)"
   ]
  },
  {
   "cell_type": "code",
   "execution_count": 11,
   "metadata": {
    "colab": {
     "base_uri": "https://localhost:8080/"
    },
    "id": "YATQKCuqHPo3",
    "outputId": "db30c15b-059c-4cad-cfba-0d233cf80043"
   },
   "outputs": [
    {
     "data": {
      "text/plain": [
       "device(type='cuda')"
      ]
     },
     "execution_count": 11,
     "metadata": {
      "tags": []
     },
     "output_type": "execute_result"
    }
   ],
   "source": [
    "\n",
    "seed = 42\n",
    "random.seed(seed)\n",
    "torch.manual_seed(seed)\n",
    "np.random.seed(seed)\n",
    "torch.backends.cudnn.deterministic = True\n",
    "device = torch.device('cuda' if torch.cuda.is_available() else 'cpu')\n",
    "device"
   ]
  },
  {
   "cell_type": "code",
   "execution_count": 12,
   "metadata": {
    "id": "MNyxstTChK3C"
   },
   "outputs": [],
   "source": [
    "class BatchIterator():\n",
    "    def __init__(self, records, vocabulary, batch_size, bpe_processor, shuffle=True, lower=True, max_sentences=30, max_sentence_length=50, device=torch.device('cpu')):\n",
    "        self.records = records\n",
    "        self.num_samples = len(records)\n",
    "        self.batch_size = batch_size\n",
    "        self.bpe_processor = bpe_processor\n",
    "        self.shuffle = shuffle\n",
    "        self.batches_count = int(math.ceil(self.num_samples / batch_size))\n",
    "        self.lower = lower\n",
    "        self.rouge = Rouge()\n",
    "        self.vocabulary = vocabulary\n",
    "        self.max_sentences = max_sentences\n",
    "        self.max_sentence_length = max_sentence_length\n",
    "        self.device = device\n",
    "        \n",
    "    def __len__(self):\n",
    "        return self.batches_count\n",
    "    \n",
    "    def __iter__(self):\n",
    "        indices = np.arange(self.num_samples)\n",
    "        if self.shuffle:\n",
    "            np.random.shuffle(indices)\n",
    "\n",
    "        for start in range(0, self.num_samples, self.batch_size):\n",
    "            end = min(start + self.batch_size, self.num_samples)\n",
    "            batch_indices = indices[start:end]\n",
    "\n",
    "            batch_inputs = []\n",
    "            batch_outputs = []\n",
    "            max_sentence_length = 0\n",
    "            max_sentences = 0\n",
    "            batch_records = []\n",
    "\n",
    "            for data_ind in batch_indices:\n",
    "                \n",
    "                record = self.records[data_ind]\n",
    "                batch_records.append(record)\n",
    "                text = record[\"text\"]\n",
    "                summary = record[\"summary\"]\n",
    "                summary = summary.lower() if self.lower else summary\n",
    "\n",
    "                if \"sentences\" not in record:\n",
    "                    sentences = [sentence.text.lower() if self.lower else sentence.text for sentence in razdel.sentenize(text)][:self.max_sentences]\n",
    "                else:\n",
    "                    sentences = record[\"sentences\"]\n",
    "                max_sentences = max(len(sentences), max_sentences)\n",
    "                \n",
    "                # номера предложений, которые в нашем саммари\n",
    "                if \"oracle_sentences\" not in record:\n",
    "                    calc_score = lambda x, y: calc_single_score(x, y, self.rouge)\n",
    "                    sentences_indicies = build_oracle_summary_greedy(text, summary, calc_score=calc_score, lower=self.lower, max_sentences=self.max_sentences)[1]\n",
    "                else:   \n",
    "                    sentences_indicies = record[\"oracle_sentences\"]\n",
    "                \n",
    "                # inputs - индексы слов в предложении\n",
    "                inputs = [bpe_processor.encode(sentence)[:self.max_sentence_length] for sentence in sentences]\n",
    "                max_sentence_length = max(max_sentence_length, max([len(tokens) for tokens in inputs]))\n",
    "                \n",
    "                # получение метки класса предложения\n",
    "                outputs = [int(i in sentences_indicies) for i in range(len(sentences))]\n",
    "                batch_inputs.append(inputs)\n",
    "                batch_outputs.append(outputs)\n",
    "\n",
    "            tensor_inputs = torch.zeros((self.batch_size, max_sentences, max_sentence_length), dtype=torch.long, device=self.device)\n",
    "            # we add index 2 for padding\n",
    "            # YOUR CODE\n",
    "            #tensor_outputs = torch.zeros((self.batch_size, max_sentences), dtype=torch.float32, device=self.device)\n",
    "            tensor_outputs = torch.ones((self.batch_size, max_sentences), dtype=torch.float32, device=self.device)*2\n",
    "\n",
    "            for i, inputs in enumerate(batch_inputs):\n",
    "                for j, sentence_tokens in enumerate(inputs):\n",
    "                    tensor_inputs[i][j][:len(sentence_tokens)] = torch.tensor(sentence_tokens, dtype=torch.int64)\n",
    "\n",
    "            for i, outputs in enumerate(batch_outputs):\n",
    "                tensor_outputs[i][:len(outputs)] = torch.LongTensor(outputs)\n",
    "\n",
    "            tensor_outputs = tensor_outputs.long()\n",
    "            yield {\n",
    "                'inputs': tensor_inputs,\n",
    "                'outputs': tensor_outputs,\n",
    "                'records': batch_records\n",
    "            }"
   ]
  },
  {
   "cell_type": "code",
   "execution_count": null,
   "metadata": {
    "colab": {
     "base_uri": "https://localhost:8080/",
     "height": 37
    },
    "id": "5_Au8EAseCNJ",
    "outputId": "99080567-2138-4647-c493-e9c1a30ec48c"
   },
   "outputs": [
    {
     "data": {
      "application/vnd.google.colaboratory.intrinsic+json": {
       "type": "string"
      },
      "text/plain": [
       "'2011-11-30 18:33:39'"
      ]
     },
     "execution_count": 15,
     "metadata": {
      "tags": []
     },
     "output_type": "execute_result"
    }
   ],
   "source": [
    "ext_train_records[0][\"date\"]"
   ]
  },
  {
   "cell_type": "code",
   "execution_count": 13,
   "metadata": {
    "id": "5ug9MIObdi03"
   },
   "outputs": [],
   "source": [
    "train_iterator = BatchIterator(ext_train_records, vocabulary, 32, bpe_processor, device=device)\n",
    "val_iterator = BatchIterator(ext_val_records, vocabulary, 32, bpe_processor, device=device)\n",
    "test_iterator = BatchIterator(ext_test_records, vocabulary, 32, bpe_processor, device=device)"
   ]
  },
  {
   "cell_type": "code",
   "execution_count": 14,
   "metadata": {
    "colab": {
     "base_uri": "https://localhost:8080/"
    },
    "id": "Stakm4oaATiy",
    "outputId": "d5297779-cba7-4057-bbe4-ec891607e422"
   },
   "outputs": [
    {
     "data": {
      "text/plain": [
       "dict_keys(['inputs', 'outputs', 'records'])"
      ]
     },
     "execution_count": 14,
     "metadata": {
      "tags": []
     },
     "output_type": "execute_result"
    }
   ],
   "source": [
    "# Let's see what is in the first batch\n",
    "next(iter(train_iterator)).keys()"
   ]
  },
  {
   "cell_type": "code",
   "execution_count": 15,
   "metadata": {
    "colab": {
     "base_uri": "https://localhost:8080/"
    },
    "id": "mGFWmiuVC_ZP",
    "outputId": "83d48fa9-c1b2-40ae-f4d9-c2ded7c6c5e6"
   },
   "outputs": [
    {
     "data": {
      "text/plain": [
       "tensor([[[ 276, 3008,  633,  ...,    0,    0,    0],\n",
       "         [ 472, 2000,  290,  ..., 1352,  897,  501],\n",
       "         [5262,  855, 6208,  ...,    0,    0,    0],\n",
       "         ...,\n",
       "         [1894,  879,  318,  ...,    0,    0,    0],\n",
       "         [ 485,  506, 6856,  ...,    0,    0,    0],\n",
       "         [   0,    0,    0,  ...,    0,    0,    0]],\n",
       "\n",
       "        [[ 615, 1445, 2956,  ...,    0,    0,    0],\n",
       "         [4160,  340, 1541,  ...,    0,    0,    0],\n",
       "         [ 322, 2978, 3575,  ...,  546,    5,  989],\n",
       "         ...,\n",
       "         [3373, 1245,  276,  ...,    0,    0,    0],\n",
       "         [ 991,  344,  276,  ...,    0,    0,    0],\n",
       "         [ 454,  812, 5912,  ...,  715,  463,  878]],\n",
       "\n",
       "        [[8857,   60, 4745,  ...,    0,    0,    0],\n",
       "         [ 422, 2425,   16,  ...,  445, 3343,  395],\n",
       "         [3213,   25, 1862,  ...,    0,    0,    0],\n",
       "         ...,\n",
       "         [ 809,  945,  400,  ..., 1456,  749,  906],\n",
       "         [ 286,  693,  862,  ...,    0,    0,    0],\n",
       "         [1018,  286, 8460,  ...,    0,    0,    0]],\n",
       "\n",
       "        ...,\n",
       "\n",
       "        [[2941, 8998, 9294,  ...,  286,  337,  290],\n",
       "         [2884, 3946, 7488,  ...,    0,    0,    0],\n",
       "         [1276,  287, 6920,  ...,    0,    0,    0],\n",
       "         ...,\n",
       "         [2495, 3196, 1398,  ...,    0,    0,    0],\n",
       "         [   0,    0,    0,  ...,    0,    0,    0],\n",
       "         [   0,    0,    0,  ...,    0,    0,    0]],\n",
       "\n",
       "        [[1540, 5780, 8495,  ...,    0,    0,    0],\n",
       "         [ 297,  922,  445,  ...,    0,    0,    0],\n",
       "         [ 983,  677,  361,  ...,    0,    0,    0],\n",
       "         ...,\n",
       "         [ 319,  879,  715,  ...,    0,    0,    0],\n",
       "         [ 287, 3735, 2151,  ...,    0,    0,    0],\n",
       "         [1828,  714,  596,  ...,    0,    0,    0]],\n",
       "\n",
       "        [[ 485, 1231, 2252,  ...,  324, 4550,    0],\n",
       "         [ 319, 1930, 4700,  ...,    0,    0,    0],\n",
       "         [4658,  691, 4377,  ...,    0,    0,    0],\n",
       "         ...,\n",
       "         [   0,    0,    0,  ...,    0,    0,    0],\n",
       "         [   0,    0,    0,  ...,    0,    0,    0],\n",
       "         [   0,    0,    0,  ...,    0,    0,    0]]], device='cuda:0')"
      ]
     },
     "execution_count": 15,
     "metadata": {
      "tags": []
     },
     "output_type": "execute_result"
    }
   ],
   "source": [
    "next(iter(train_iterator))['inputs']"
   ]
  },
  {
   "cell_type": "code",
   "execution_count": null,
   "metadata": {
    "colab": {
     "base_uri": "https://localhost:8080/"
    },
    "id": "On7BA616DF8r",
    "outputId": "b17a9ac4-f2c9-40f4-fdb7-8a3a7bbdc498"
   },
   "outputs": [
    {
     "data": {
      "text/plain": [
       "torch.Size([32, 30])"
      ]
     },
     "execution_count": 19,
     "metadata": {
      "tags": []
     },
     "output_type": "execute_result"
    }
   ],
   "source": [
    "next(iter(train_iterator))['outputs'].shape"
   ]
  },
  {
   "cell_type": "code",
   "execution_count": 16,
   "metadata": {
    "colab": {
     "base_uri": "https://localhost:8080/"
    },
    "id": "EYEDuXPSDGvn",
    "outputId": "48bc85b8-a34c-497f-9cfb-5475c08cbf04"
   },
   "outputs": [
    {
     "data": {
      "text/plain": [
       "{'date': '2018-11-24 13:30:50',\n",
       " 'oracle_sentences': [0, 18],\n",
       " 'oracle_summary': 'в керчи разрушается митридатская лестница — одна из главных достопримечательностей крымского полуострова и визитная карточка города. здесь гуляют бродячие собаки и бездомные кошки.',\n",
       " 'sentences': ['в керчи разрушается митридатская лестница — одна из главных достопримечательностей крымского полуострова и визитная карточка города.',\n",
       "  'исторический памятник середины xix века, входящий в реестр объектов культурного наследия россии федерального значения, находится в аварийном состоянии.',\n",
       "  'то, что могло бы служить приманкой для туристов, поток которых значительно увеличился через восточные ворота крыма с введением в строй транспортного моста, представляет опасность для жизни.',\n",
       "  'из-за отсутствия необходимого ремонта в 2015 году митридатская лестница пережила частичное обрушение.',\n",
       "  'в частности, пострадал возведенный у ее основания склеп деметры, треснул и продолжил разрушаться арочный свод.',\n",
       "  'часть деталей при этом оказалась утрачена.',\n",
       "  'согласно заключению специалистов, к обрушению элементов второго яруса привел подмыв почвенными водами.',\n",
       "  'проблемы архитектурного объекта были настолько очевидны, что делом озаботились президент владимир путин и председатель правительства дмитрий медведев.',\n",
       "  'во время посещения керчи в сентябре 2016 года они дали поручение привести лестницу в надлежащий вид.',\n",
       "  'крым получил на реставрацию памятника 1,2 млрд рублей.',\n",
       "  'ремонт планировалось провести за три года, однако осмотр достопримечательности даже неспециалистом позволяет сделать предположение, что в реальности работы еще даже не начинались.',\n",
       "  'митридатская лестница выглядит так, будто вчера была раскопана археологами.',\n",
       "  'особенно сильно она контрастирует с похожими объектами рима, которые итальянские власти поддерживают в нормальном состоянии и не видят в своей деятельности ничего выдающегося.',\n",
       "  'а в нижнем новгороде сделали конфетку из монументальной чкаловской лестницы.',\n",
       "  'на ней проводятся различные легкоатлетические соревнования на скорость и выносливость.',\n",
       "  'основные сегодняшние посетители митридатской лестницы совсем иного рода.',\n",
       "  'лестничные пролеты и искусно выполненные когда-то итальянскими мастерами террасы весьма популярны у местных пьяниц, которые забираются сюда в надежде, что полицейский патруль не станет карабкаться за ними по обломкам ступеней.',\n",
       "  'пространства лестницы полны осколков от бутылок из-под спиртного.',\n",
       "  'здесь гуляют бродячие собаки и бездомные кошки.',\n",
       "  'куски строения, часть которых, возможно, осталась после разрушений 2015 года, «заботливо» сложены под навес.',\n",
       "  'говорят, камешки активно расхищаются — на сувениры и в практических целях.',\n",
       "  'такая судьба была уготована митридатской лестнице с самого начала.',\n",
       "  'еще в конце xix века посетители отламывали и забирали себе выпуклые украшения, лепнину и статуи.',\n",
       "  'от простых любопытных лестницу решили спрятать за переносным алюминиевым забором, подпорками которому послужили камни — не исключено, когда-то элементы объекта.',\n",
       "  'таким способом лестница огорожена и в самом начале, и на нескольких пролетах, а также в левом крыле.',\n",
       "  'народ, впрочем, такое препятствие ничуть не смущает.',\n",
       "  'конструкции ограждения «подвинуты», а в одном месте просто снесены.',\n",
       "  '«тусить» на лестницу приходит молодежь, оставляющая после себя надписи, свидетельствующие о принадлежности к той или иной субкультуре.',\n",
       "  'если к объекту и прикреплены охранники, то на людях они предпочитают не показываться.',\n",
       "  'о том, что смотрители тут все-таки бывают, свидетельствует старательно закрашенная кем-то надпись «слава украине».'],\n",
       " 'summary': 'В Керчи разрушается Митридатская лестница, пока крымские власти и правоохранительные органы выявляют ответственных за многомиллионные растраты и срыв ремонтных работ. Уникальный исторический памятник облюбовали пьяницы и бездомные животные. Новый проект реставрации обещают утвердить до конца ноября.',\n",
       " 'text': 'В Керчи разрушается Митридатская лестница — одна из главных достопримечательностей Крымского полуострова и визитная карточка города. Исторический памятник середины XIX века, входящий в реестр объектов культурного наследия России федерального значения, находится в аварийном состоянии. То, что могло бы служить приманкой для туристов, поток которых значительно увеличился через восточные ворота Крыма с введением в строй транспортного моста, представляет опасность для жизни. Из-за отсутствия необходимого ремонта в 2015 году Митридатская лестница пережила частичное обрушение. В частности, пострадал возведенный у ее основания склеп Деметры, треснул и продолжил разрушаться арочный свод. Часть деталей при этом оказалась утрачена. Согласно заключению специалистов, к обрушению элементов второго яруса привел подмыв почвенными водами. Проблемы архитектурного объекта были настолько очевидны, что делом озаботились президент Владимир Путин и председатель правительства Дмитрий Медведев. Во время посещения Керчи в сентябре 2016 года они дали поручение привести лестницу в надлежащий вид. Крым получил на реставрацию памятника 1,2 млрд рублей. Ремонт планировалось провести за три года, однако осмотр достопримечательности даже неспециалистом позволяет сделать предположение, что в реальности работы еще даже не начинались. Митридатская лестница выглядит так, будто вчера была раскопана археологами. Особенно сильно она контрастирует с похожими объектами Рима, которые итальянские власти поддерживают в нормальном состоянии и не видят в своей деятельности ничего выдающегося. А в Нижнем Новгороде сделали конфетку из монументальной Чкаловской лестницы. На ней проводятся различные легкоатлетические соревнования на скорость и выносливость. Основные сегодняшние посетители Митридатской лестницы совсем иного рода. Лестничные пролеты и искусно выполненные когда-то итальянскими мастерами террасы весьма популярны у местных пьяниц, которые забираются сюда в надежде, что полицейский патруль не станет карабкаться за ними по обломкам ступеней. Пространства лестницы полны осколков от бутылок из-под спиртного. Здесь гуляют бродячие собаки и бездомные кошки. Куски строения, часть которых, возможно, осталась после разрушений 2015 года, «заботливо» сложены под навес. Говорят, камешки активно расхищаются — на сувениры и в практических целях. Такая судьба была уготована Митридатской лестнице с самого начала. Еще в конце XIX века посетители отламывали и забирали себе выпуклые украшения, лепнину и статуи. От простых любопытных лестницу решили спрятать за переносным алюминиевым забором, подпорками которому послужили камни — не исключено, когда-то элементы объекта. Таким способом лестница огорожена и в самом начале, и на нескольких пролетах, а также в левом крыле. Народ, впрочем, такое препятствие ничуть не смущает. Конструкции ограждения «подвинуты», а в одном месте просто снесены. «Тусить» на лестницу приходит молодежь, оставляющая после себя надписи, свидетельствующие о принадлежности к той или иной субкультуре. Если к объекту и прикреплены охранники, то на людях они предпочитают не показываться. О том, что смотрители тут все-таки бывают, свидетельствует старательно закрашенная кем-то надпись «Слава Украине». Будущее лестницы очень заботит местных, которые по отдельным пролетам добираются к себе домой: на горе Митридат и у ее подножия много жилых зданий. Это исторический центр города. Керченские приверженцы ЗОЖ используют ветхие ступеньки для пробежек. Целенаправленно приехавших туристов практически нет. Преодолеть 432 ступени — такое под силу не каждому. В сентябре глава Крыма Сергей Аксенов объявил о провале реставрации Митридатской лестницы. Ответственным за случившееся назвали Госкомитет по охране культурного наследия, первый заместитель руководителя которого Александр Диденко был отстранен от должности до окончания проверки. Аксенова «особенно удивил» тот факт, что Госком и городская администрация бросились «наперегонки обвинять друг друга» уже после выяснения всех обстоятельств. Об этом региональный глава написал на своей странице в фейсбуке. Как заявил тогда на совещании у Аксенова вице-премьер Крыма Виталий Нахлупин , в процессе уже проведенного ремонта было выявлено «неэффективное использование» более 167,5 млн рублей. «Ситуация оказалась гораздо сложнее и хуже, чем мы предполагали в наших самых неблагоприятных прогнозах. Те работы, которые проведены в рамках противоаварийного ремонта, никакого влияния на лестницу не оказали, не принесли положительного результата. Только сняли плитку. И с мая лестница стоит без плитки, расползаются швы, вываливается кладка», — отмечал чиновник, который в середине октября сам был задержан в Москве за получение взяток на общую сумму 5 млн рублей. В конце сентября Аксенов утвердил новую дорожную карту реконструкции многострадальной лестницы. Для проведения работ был назначен новый подрядчик, который должен был «устранить все допущенные ошибки». Материалы по делу были направлены в прокуратуру. В начале ноября руководство Керчи распространило на официальном сайте информацию о своей непричастности к проведению противооползневых мероприятий в марте этого года, о целесообразности которых в настоящее время проводится прокурорская проверка. До конца текущего месяца ожидается подтверждение нового проекта реконструкции. Как подчеркнул глава администрации Керчи Сергей Бороздин , жителей прилегающих к лестнице домов не будут отселять из-за проведения работ. Митридатская лестница была построена в 1833-1840 годах по проекту итальянца Александра Дигби на северо-восточном склоне горы Митридат, образовав архитектурную ось центра города, ведущую от центральной площади Ленина с византийским храмом Иоанна Предтечи VIII века. Возвышающаяся на 91,4 метра над уровнем моря гора названа в честь легендарного понтийского царя Митридата VI Евпатора, который прославился успешными войнами с Римской республикой и погиб здесь от руки собственного телохранителя, выполнявшего просьбу своего властелина. На склонах горы находятся руины древнего города Пантикапея — столицы сначала Боспорского, а при Митридате более крупного Понтийского царства. Уникальные исторические реликвии, пережившие ожесточенные бои во время Великой Отечественной войны, сегодня фактически доступны для любых вандальных действий. Вопреки запрещающим табличкам, посетители археологического комплекса забираются для селфи и фотографий прямо на руины. Здесь же находится могила выдающегося археолога, одного из первых исследователей Боспорского царства, первооткрывателя и активного участника раскопок Пантикапея, организатора Керченского музея древностей, а также городского главы в 1828-1832 годах Ивана Стемпковского. Возведенная над погребением часовня-усыпальница была разрушена в 1944 году. В недрах северного склона прямо под жилой застройкой проложен подземный некрополь позднеантичных склепов. На горе также располагается Обелиск Славы Бессмертным Героям – памятник павшим в боях за освобождение Крыма. Отсюда открывается уникальный панорамный вид на город, порт и Таманский полуостров.',\n",
       " 'title': 'Все украли: в Керчи разрушается уникальный памятник',\n",
       " 'url': 'https://www.gazeta.ru/science/2018/11/24_a_12070399.shtml'}"
      ]
     },
     "execution_count": 16,
     "metadata": {
      "tags": []
     },
     "output_type": "execute_result"
    }
   ],
   "source": [
    "next(iter(train_iterator))['records'][0]"
   ]
  },
  {
   "cell_type": "markdown",
   "metadata": {
    "id": "yPlJMg0_dQM-"
   },
   "source": [
    "## Extractor -  SummaRuNNer\n",
    " https://arxiv.org/pdf/1611.04230.pdf\n"
   ]
  },
  {
   "cell_type": "markdown",
   "metadata": {
    "id": "4BSsnfe4t1uK"
   },
   "source": [
    "### Homework\n",
    "\n",
    "* В данной реализации в `outputs` в качестве padding используется индекс 0. Измените в функции \\_\\_iter__ индекс padding, чтобы он не совпадал с классом 0 или 1, например, 2.\n",
    "* В качестве criterion используйте `CrossEntropyLoss`вместо `BCEWithLogitsLoss`\n",
    "* Из-за смены criterion, вы уже должны подавать на вход criterion ни одно число, а logits для каждого класса. Перед подачей logits вы можете отфильтровать предсказания для класса padding. В этом пункте вам придется изменять файл `train_model.py`, а именно функциии `train` и `evaluate`.\n",
    "* Используйте два варианта обучения: c весами в `CrossEntropyLoss` и без\n",
    "* Также сравните `inference`, когда вы ранжируете logits, и когда вы выбираете предложения, у котрых logits > 0, в двух вариантах обучения. \n",
    "* Реализуйте дополнительно характеристику предложения `novelty`. Как влияет добавление `novelty` на качество summary?\n",
    "* Постарайтесь улучшить качество модели, полученной на семинаре: $BLEU \\approx 0.45$"
   ]
  },
  {
   "cell_type": "markdown",
   "metadata": {
    "id": "QxpL3AtOrctD"
   },
   "source": [
    "## Model without novelty\n",
    "\n",
    "$P\\left(y_{j} = 1 \\mid \\mathbf{h}_{j}, \\mathbf{s}_{j}, \\mathbf{d}\\right)=\\sigma\\left(W_{c} \\mathbf{h}_{j} + \\mathbf{h}_{j}^{T} W_{s} \\mathbf{d}\\right)$\n",
    "--------------------"
   ]
  },
  {
   "cell_type": "code",
   "execution_count": 17,
   "metadata": {
    "id": "6vKOgYYr0uVH"
   },
   "outputs": [],
   "source": [
    "class SentenceEncoderRNN(nn.Module):\n",
    "    def __init__(self, input_size, embedding_dim, hidden_size, n_layers=3, dropout=0.3, bidirectional=True):\n",
    "        super().__init__()\n",
    "\n",
    "        num_directions = 2 if bidirectional else 1\n",
    "        assert hidden_size % num_directions == 0\n",
    "        hidden_size = hidden_size // num_directions\n",
    "\n",
    "        self.embedding_dim = embedding_dim\n",
    "        self.input_size = input_size\n",
    "        self.hidden_size = hidden_size\n",
    "        self.n_layers = n_layers\n",
    "        self.dropout = dropout\n",
    "        self.bidirectional = bidirectional\n",
    "\n",
    "        self.embedding_layer = nn.Embedding(input_size, embedding_dim)\n",
    "        self.rnn_layer = nn.LSTM(embedding_dim, hidden_size, n_layers, dropout=dropout, bidirectional=bidirectional, batch_first=True)\n",
    "        self.dropout_layer = nn.Dropout(dropout)\n",
    "\n",
    "    def forward(self, inputs, hidden=None):\n",
    "        embedded = self.dropout_layer(self.embedding_layer(inputs))\n",
    "        outputs, _ = self.rnn_layer(embedded, hidden)\n",
    "        sentences_embeddings = torch.mean(outputs, 1)\n",
    "        # [batch_size, hidden_size]\n",
    "        return sentences_embeddings\n",
    "\n",
    "class SentenceTaggerRNN(nn.Module):\n",
    "    def __init__(self,\n",
    "                 vocabulary_size,\n",
    "                 use_content=True,\n",
    "                 use_salience=True,\n",
    "                 use_novelty=False,\n",
    "                 token_embedding_dim=128,\n",
    "                 sentence_encoder_hidden_size=256,\n",
    "                 hidden_size=256,\n",
    "                 bidirectional=True,\n",
    "                 sentence_encoder_n_layers=2,\n",
    "                 sentence_encoder_dropout=0.3,\n",
    "                 sentence_encoder_bidirectional=True,\n",
    "                 n_layers=2,\n",
    "                 dropout=0.3):\n",
    "        \n",
    "        super().__init__()\n",
    "\n",
    "        num_directions = 2 if bidirectional else 1\n",
    "        assert hidden_size % num_directions == 0\n",
    "        hidden_size = hidden_size // num_directions\n",
    "\n",
    "        self.hidden_size = hidden_size\n",
    "        self.n_layers = n_layers\n",
    "        self.dropout = dropout\n",
    "        self.bidirectional = bidirectional\n",
    "\n",
    "        self.sentence_encoder = SentenceEncoderRNN(vocabulary_size, token_embedding_dim,\n",
    "                                                   sentence_encoder_hidden_size, sentence_encoder_n_layers, \n",
    "                                                   sentence_encoder_dropout, sentence_encoder_bidirectional)\n",
    "        \n",
    "        self.rnn_layer = nn.LSTM(sentence_encoder_hidden_size, hidden_size, n_layers, dropout=dropout,\n",
    "                           bidirectional=bidirectional, batch_first=True)\n",
    "        \n",
    "        self.dropout_layer = nn.Dropout(dropout)\n",
    "        self.content_linear_layer = nn.Linear(hidden_size * 2, 1)\n",
    "        self.document_linear_layer = nn.Linear(hidden_size * 2, hidden_size * 2)\n",
    "        self.salience_linear_layer = nn.Linear(hidden_size * 2, hidden_size * 2)\n",
    "        self.novelty_linear_layer = nn.Linear(hidden_size * 2, hidden_size * 2) # YOUR CODE\n",
    "        self.tanh_layer = nn.Tanh()\n",
    "\n",
    "        self.use_content = use_content\n",
    "        self.use_salience = use_salience\n",
    "        self.use_novelty = use_novelty\n",
    "\n",
    "    def forward(self, inputs, hidden=None):\n",
    "        # parameters of the probability\n",
    "        content = 0\n",
    "        salience = 0\n",
    "        novelty = 0\n",
    "\n",
    "        # [batch_size, seq num, seq_len]\n",
    "        batch_size = inputs.size(0)\n",
    "        sentences_count = inputs.size(1)\n",
    "        tokens_count = inputs.size(2)\n",
    "        inputs = inputs.reshape(-1, tokens_count)\n",
    "        # [batch_size * seq num, seq_len]\n",
    "\n",
    "        embedded_sentences = self.sentence_encoder(inputs)\n",
    "        embedded_sentences = self.dropout_layer(embedded_sentences.reshape(batch_size, sentences_count, -1))\n",
    "        # [batch_size *  seq num, seq_len, hidden_size] -> [batch_size, seq num, hidden_size]\n",
    "\n",
    "        outputs, _ = self.rnn_layer(embedded_sentences, hidden)\n",
    "        # [batch_size, seq num, hidden_size]\n",
    "\n",
    "        document_embedding = self.tanh_layer(self.document_linear_layer(torch.mean(outputs, 1)))\n",
    "        # [batch_size, hidden_size]\n",
    "\n",
    "        if self.use_content:\n",
    "            content = self.content_linear_layer(outputs).squeeze(2) # 1-representation\n",
    "        # [batch_size, seq num]\n",
    "\n",
    "        # h^T * W * d\n",
    "        if self.use_salience:\n",
    "            salience = torch.bmm(outputs, self.salience_linear_layer(document_embedding).unsqueeze(2)).squeeze(2) # 2-representation\n",
    "        # [batch_size, seq num, hidden_size] * [batch_size, hidden_size, 1] = [batch_size, seq num, ]\n",
    "\n",
    "        if self.use_novelty:\n",
    "            # at every step add novelty to prediction of the sentence\n",
    "            predictions = content + salience\n",
    "            \n",
    "        return content + salience"
   ]
  },
  {
   "cell_type": "code",
   "execution_count": 18,
   "metadata": {
    "colab": {
     "base_uri": "https://localhost:8080/"
    },
    "id": "-7C96ttV1DLi",
    "outputId": "bcb7cd6e-6a69-4b00-e232-32262fe80163"
   },
   "outputs": [
    {
     "name": "stdout",
     "output_type": "stream",
     "text": [
      "Trainable params: 2927617\n"
     ]
    }
   ],
   "source": [
    "vocab_size = len(vocabulary)\n",
    "model = SentenceTaggerRNN(vocab_size).to(device)\n",
    "\n",
    "params_count = np.sum([p.numel() for p in model.parameters() if p.requires_grad])\n",
    "print(\"Trainable params: {}\".format(params_count))"
   ]
  },
  {
   "cell_type": "code",
   "execution_count": 19,
   "metadata": {
    "colab": {
     "base_uri": "https://localhost:8080/"
    },
    "id": "F-krhhaY1ElU",
    "outputId": "fa303ac3-16e2-419f-d028-d0193ba51110"
   },
   "outputs": [
    {
     "name": "stdout",
     "output_type": "stream",
     "text": [
      "sentence_encoder.embedding_layer.weight: 1280000\n",
      "sentence_encoder.rnn_layer.weight_ih_l0: 65536\n",
      "sentence_encoder.rnn_layer.weight_hh_l0: 65536\n",
      "sentence_encoder.rnn_layer.bias_ih_l0: 512\n",
      "sentence_encoder.rnn_layer.bias_hh_l0: 512\n",
      "sentence_encoder.rnn_layer.weight_ih_l0_reverse: 65536\n",
      "sentence_encoder.rnn_layer.weight_hh_l0_reverse: 65536\n",
      "sentence_encoder.rnn_layer.bias_ih_l0_reverse: 512\n",
      "sentence_encoder.rnn_layer.bias_hh_l0_reverse: 512\n",
      "sentence_encoder.rnn_layer.weight_ih_l1: 131072\n",
      "sentence_encoder.rnn_layer.weight_hh_l1: 65536\n",
      "sentence_encoder.rnn_layer.bias_ih_l1: 512\n",
      "sentence_encoder.rnn_layer.bias_hh_l1: 512\n",
      "sentence_encoder.rnn_layer.weight_ih_l1_reverse: 131072\n",
      "sentence_encoder.rnn_layer.weight_hh_l1_reverse: 65536\n",
      "sentence_encoder.rnn_layer.bias_ih_l1_reverse: 512\n",
      "sentence_encoder.rnn_layer.bias_hh_l1_reverse: 512\n",
      "rnn_layer.weight_ih_l0: 131072\n",
      "rnn_layer.weight_hh_l0: 65536\n",
      "rnn_layer.bias_ih_l0: 512\n",
      "rnn_layer.bias_hh_l0: 512\n",
      "rnn_layer.weight_ih_l0_reverse: 131072\n",
      "rnn_layer.weight_hh_l0_reverse: 65536\n",
      "rnn_layer.bias_ih_l0_reverse: 512\n",
      "rnn_layer.bias_hh_l0_reverse: 512\n",
      "rnn_layer.weight_ih_l1: 131072\n",
      "rnn_layer.weight_hh_l1: 65536\n",
      "rnn_layer.bias_ih_l1: 512\n",
      "rnn_layer.bias_hh_l1: 512\n",
      "rnn_layer.weight_ih_l1_reverse: 131072\n",
      "rnn_layer.weight_hh_l1_reverse: 65536\n",
      "rnn_layer.bias_ih_l1_reverse: 512\n",
      "rnn_layer.bias_hh_l1_reverse: 512\n",
      "content_linear_layer.weight: 256\n",
      "content_linear_layer.bias: 1\n",
      "document_linear_layer.weight: 65536\n",
      "document_linear_layer.bias: 256\n",
      "salience_linear_layer.weight: 65536\n",
      "salience_linear_layer.bias: 256\n",
      "novelty_linear_layer.weight: 65536\n",
      "novelty_linear_layer.bias: 256\n"
     ]
    }
   ],
   "source": [
    "for name, param in model.named_parameters():\n",
    "    print(f\"{name}: {param.numel()}\")"
   ]
  },
  {
   "cell_type": "code",
   "execution_count": 20,
   "metadata": {
    "colab": {
     "base_uri": "https://localhost:8080/"
    },
    "id": "18fjyw177QmC",
    "outputId": "789ee7d7-1c20-4ae9-9503-56b9e7081501"
   },
   "outputs": [
    {
     "name": "stdout",
     "output_type": "stream",
     "text": [
      "Mounted at /content/gdrive\n"
     ]
    }
   ],
   "source": [
    "from google.colab import drive\n",
    "drive.mount('/content/gdrive', force_remount=True)\n",
    "!cd /content/gdrive/My\\ Drive/"
   ]
  },
  {
   "cell_type": "code",
   "execution_count": 21,
   "metadata": {
    "colab": {
     "base_uri": "https://localhost:8080/"
    },
    "id": "EsSuPQuT1FPV",
    "outputId": "1513065f-1e0d-4ebd-8ac5-1d296d1a2c1b"
   },
   "outputs": [
    {
     "name": "stdout",
     "output_type": "stream",
     "text": [
      "Downloading...\n",
      "From: https://drive.google.com/uc?id=1Wr1C3i8hy7TONdJWKhIr0CzqwMySWHN0\n",
      "To: /content/train_model.py\n",
      "100% 4.74k/4.74k [00:00<00:00, 7.79MB/s]\n"
     ]
    }
   ],
   "source": [
    "!gdown https://drive.google.com/uc?id=1Wr1C3i8hy7TONdJWKhIr0CzqwMySWHN0 -O train_model.py \n",
    "import train_model\n",
    "import imp \n",
    "imp.reload(train_model)\n",
    "from train_model import train_with_logs"
   ]
  },
  {
   "cell_type": "code",
   "execution_count": null,
   "metadata": {
    "id": "ezuZrus80mEO"
   },
   "outputs": [],
   "source": [
    "#torch.cuda.empty_cache()"
   ]
  },
  {
   "cell_type": "markdown",
   "metadata": {
    "id": "KKeyFJGg8vUt"
   },
   "source": [
    "## Training with class weights"
   ]
  },
  {
   "cell_type": "code",
   "execution_count": 22,
   "metadata": {
    "colab": {
     "base_uri": "https://localhost:8080/",
     "height": 576
    },
    "id": "dvTtz5xo26Wx",
    "outputId": "1f0108b0-f13a-4678-a737-cdd2f18f842a"
   },
   "outputs": [
    {
     "data": {
      "image/png": "[encoded data removed]",
      "text/plain": [
       "<Figure size 864x576 with 2 Axes>"
      ]
     },
     "metadata": {
      "needs_background": "light",
      "tags": []
     },
     "output_type": "display_data"
    },
    {
     "name": "stdout",
     "output_type": "stream",
     "text": [
      "Epoch: 10 | Time: 0m 9s\n",
      "\tTrain Loss: 0.609 | Train PPL:   1.838\n",
      "\t Val. Loss: 0.589 |  Val. PPL:   1.802\n"
     ]
    }
   ],
   "source": [
    "N_EPOCHS = 10\n",
    "CLIP = 1.0\n",
    "\n",
    "\n",
    "def train(use_class_weights, N_EPOCHS, CLIP, lr=1e-4):\n",
    "    optimizer = optim.Adam(model.parameters(), lr)\n",
    "\n",
    "    if use_class_weights:\n",
    "        # weights depend on the number of objects of class 0 and 1\n",
    "        # YOUR CODE\n",
    "        weights = [0.077, 0.923] #as class distribution\n",
    "        class_weights = torch.FloatTensor(weights).cuda()\n",
    "        criterion = nn.CrossEntropyLoss(weight=class_weights,ignore_index=2) \n",
    "    else:\n",
    "        criterion = nn.CrossEntropyLoss(ignore_index=2)  \n",
    "\n",
    "    train_with_logs(model, train_iterator, val_iterator, optimizer, criterion, N_EPOCHS, CLIP)\n",
    "\n",
    "train(True, N_EPOCHS, CLIP)"
   ]
  },
  {
   "cell_type": "code",
   "execution_count": 23,
   "metadata": {
    "colab": {
     "base_uri": "https://localhost:8080/"
    },
    "id": "T23thREt8-aY",
    "outputId": "665bb140-43ad-4efa-fb0b-be311e90a101"
   },
   "outputs": [
    {
     "name": "stdout",
     "output_type": "stream",
     "text": [
      "Count: 256\n",
      "Ref: посол рф в израиле анатолий викторов заявил , что за прошлый год тель-авив отказал россиянам во въезде в страну почти 6 тыс . раз , причем часть отказов ничем не обоснованы . по словам дипломата , среди « отказников » — туристы и паломники , четко выполнившие поставленные условия . он выразил надежду , что благодаря совместной работе рф и израиля ситуацию удастся изменить .\n",
      "Hyp: за 2019 год израиль отказал россиянам во въезде в страну около 6 тыс . раз . об этом сообщает принадлежащее григорию березкину рбк со ссылкой на посла россии в израиле анатолия викторова . « среди них — туристы и паломники , которые абсолютно четко , с их точки зрения , выполнили все условия : купили билеты , путевки , забронировали гостиницы , располагали достаточным количеством финансовых средств — однако въехать в израиль им не разрешили » , — заявил дипломат .\n",
      "BLEU:  0.4483358093852308\n",
      "ROUGE:  {'rouge-1': {'f': 0.31733181247536896, 'p': 0.30313415143950323, 'r': 0.3531967563454292}, 'rouge-2': {'f': 0.14277322190268435, 'p': 0.13475932187114886, 'r': 0.16339726182715178}, 'rouge-l': {'f': 0.27154623032757486, 'p': 0.2739258120398609, 'r': 0.318604126542439}}\n"
     ]
    }
   ],
   "source": [
    "from train_model import punct_detokenize, postprocess\n",
    "\n",
    "def inference_summarunner(model, iterator, top_k=3):\n",
    "\n",
    "    references = []\n",
    "    predictions = []\n",
    "\n",
    "    model.eval()\n",
    "    for batch in test_iterator:\n",
    "\n",
    "        logits = model(batch['inputs'])\n",
    "    \n",
    "        sum_in = torch.argsort(logits, dim=1)[:, -top_k:]\n",
    "        \n",
    "        for i in range(len(batch['outputs'])):\n",
    "\n",
    "            summary = batch['records'][i]['summary'].lower()\n",
    "            pred_summary = ' '.join([batch['records'][i]['sentences'][ind] for ind in sum_in.sort(dim=1)[0][i]\n",
    "                            if ind < len(batch[\"records\"][i][\"sentences\"])])\n",
    "            summary, pred_summary = postprocess(summary, pred_summary)\n",
    "\n",
    "            references.append(summary)\n",
    "            predictions.append(pred_summary)\n",
    "\n",
    "    calc_scores(references, predictions)\n",
    "\n",
    "model.load_state_dict(torch.load('weights_best-val-model.pt'))\n",
    "inference_summarunner_without_novelty_with_class_weights = inference_summarunner(model, test_iterator, 3)\n",
    "inference_summarunner_without_novelty_with_class_weights"
   ]
  },
  {
   "cell_type": "code",
   "execution_count": 24,
   "metadata": {
    "colab": {
     "base_uri": "https://localhost:8080/"
    },
    "id": "adnaqm57Db2y",
    "outputId": "c3f315bc-8c88-43a8-ff47-93b727b38324"
   },
   "outputs": [
    {
     "name": "stdout",
     "output_type": "stream",
     "text": [
      "Count: 256\n",
      "Ref: накопительная часть пенсии не будет разморожена . по крайней мере до 2022 года включительно . это следует из подписанного президентом владимиром путиным закона . накопительная часть пенсии была заморожена еще в 2014 году и позволила пфр сэкономить более двух триллионов рублей . надежд на будущую « разморозку » все меньше . чиновники рассчитывают , что россияне будут копить на достойную старость самостоятельно .\n",
      "Hyp: соответствующий федеральный закон подписал президент россии владимир путин . до этого текст законопроекта приняла госдума и одобрил совет федерации .\n",
      "BLEU:  0.40200541727836503\n",
      "ROUGE:  {'rouge-1': {'f': 0.2746113271189235, 'p': 0.31716730346814564, 'r': 0.258780831809688}, 'rouge-2': {'f': 0.11533904803441995, 'p': 0.1335784699035191, 'r': 0.11006570595957325}, 'rouge-l': {'f': 0.2289028268242449, 'p': 0.2822534788094235, 'r': 0.22961746324293203}}\n"
     ]
    }
   ],
   "source": [
    "from train_model import punct_detokenize, postprocess\n",
    "def inference_summarunner_with_threshold(model, iterator, threshold = 0):\n",
    "\n",
    "    references = []\n",
    "    predictions = []\n",
    "\n",
    "    model.eval()\n",
    "    for batch in test_iterator:\n",
    "\n",
    "        logits = model(batch['inputs'])\n",
    "    \n",
    "        sum_in = (logits > threshold).nonzero(as_tuple=False)\n",
    "        \n",
    "        for i in range(len(batch['outputs'])):\n",
    "\n",
    "            summary = batch['records'][i]['summary'].lower()\n",
    "            pred_summary = ' '.join([batch['records'][i]['sentences'][ind] for ind in sum_in.sort(dim=1)[0][i]\n",
    "                            if ind < len(batch[\"records\"][i][\"sentences\"])])\n",
    "            summary, pred_summary = postprocess(summary, pred_summary)\n",
    "\n",
    "            references.append(summary)\n",
    "            predictions.append(pred_summary)\n",
    "\n",
    "    calc_scores(references, predictions)\n",
    "\n",
    "model.load_state_dict(torch.load('weights_best-val-model.pt'))\n",
    "inference_summarunner_without_novelty_and_threshold = inference_summarunner_with_threshold(model, test_iterator, -0.47)\n",
    "inference_summarunner_without_novelty_and_threshold"
   ]
  },
  {
   "cell_type": "markdown",
   "metadata": {
    "id": "AM1FfXpuvD-Y"
   },
   "source": [
    "## Training without class weights"
   ]
  },
  {
   "cell_type": "code",
   "execution_count": 25,
   "metadata": {
    "colab": {
     "base_uri": "https://localhost:8080/"
    },
    "id": "XOBWpXKkC6pH",
    "outputId": "f88f6935-4394-4d02-c2ec-1e7f3eb557e7"
   },
   "outputs": [
    {
     "name": "stdout",
     "output_type": "stream",
     "text": [
      "Downloading...\n",
      "From: https://drive.google.com/uc?id=1Wr1C3i8hy7TONdJWKhIr0CzqwMySWHN0\n",
      "To: /content/train_model.py\n",
      "100% 4.75k/4.75k [00:00<00:00, 7.37MB/s]\n"
     ]
    }
   ],
   "source": [
    "!gdown https://drive.google.com/uc?id=1Wr1C3i8hy7TONdJWKhIr0CzqwMySWHN0 -O train_model.py \n",
    "import train_model\n",
    "import imp \n",
    "imp.reload(train_model)\n",
    "from train_model import train_with_logs"
   ]
  },
  {
   "cell_type": "code",
   "execution_count": 26,
   "metadata": {
    "colab": {
     "base_uri": "https://localhost:8080/",
     "height": 576
    },
    "id": "YFPzFAP3D2Pw",
    "outputId": "39ac4361-9406-49d1-af7d-cb4503a718c2"
   },
   "outputs": [
    {
     "data": {
      "image/png": "[encoded data removed]",
      "text/plain": [
       "<Figure size 864x576 with 2 Axes>"
      ]
     },
     "metadata": {
      "needs_background": "light",
      "tags": []
     },
     "output_type": "display_data"
    },
    {
     "name": "stdout",
     "output_type": "stream",
     "text": [
      "Epoch: 10 | Time: 0m 9s\n",
      "\tTrain Loss: 0.239 | Train PPL:   1.270\n",
      "\t Val. Loss: 0.262 |  Val. PPL:   1.299\n"
     ]
    }
   ],
   "source": [
    "N_EPOCHS = 10\n",
    "CLIP = 1.0\n",
    "\n",
    "train(False, N_EPOCHS, CLIP)"
   ]
  },
  {
   "cell_type": "code",
   "execution_count": 27,
   "metadata": {
    "colab": {
     "base_uri": "https://localhost:8080/"
    },
    "id": "4MXFkqGT26sC",
    "outputId": "c34296ae-08d4-426d-f611-a8344350ec38"
   },
   "outputs": [
    {
     "name": "stdout",
     "output_type": "stream",
     "text": [
      "Count: 256\n",
      "Ref: в конце 2019 года все больше россиян стали экономить — причем практически на всем . они сокращали траты на покупку одежды и бытовой техники , развлечения . даже старались реже пользоваться личным автомобилем , поскольку это затратно . по итогам прошлого года доходы наших соотечественников выросли всего на 0,8 % . и в этом году надеяться особо не на что , предупреждают эксперты .\n",
      "Hyp: россияне все чаще стараются экономить , показал квартальный опрос . в том , что приходится ужиматься в тратах , признались 70 % респондентов . глобальное исследование потребительского доверия the conference board проводилось совместно с nielsen .\n",
      "BLEU:  0.4483358093852308\n",
      "ROUGE:  {'rouge-1': {'f': 0.3173318124753689, 'p': 0.30313415143950345, 'r': 0.3531967563454292}, 'rouge-2': {'f': 0.14277322190268435, 'p': 0.1347593218711489, 'r': 0.16339726182715175}, 'rouge-l': {'f': 0.27154623032757474, 'p': 0.2739258120398611, 'r': 0.3186041265424391}}\n"
     ]
    }
   ],
   "source": [
    "from train_model import punct_detokenize, postprocess\n",
    "\n",
    "\n",
    "model.load_state_dict(torch.load('without_class_weights_best-val-model.pt'))\n",
    "inference_summarunner_without_novelty_without_class_weights = inference_summarunner(model, test_iterator, 3)\n",
    "inference_summarunner_without_novelty_without_class_weights"
   ]
  },
  {
   "cell_type": "code",
   "execution_count": 36,
   "metadata": {
    "colab": {
     "base_uri": "https://localhost:8080/"
    },
    "id": "nSGlDnAm8CYh",
    "outputId": "6dacfd87-55ec-47e1-9173-3f383cb6966f"
   },
   "outputs": [
    {
     "name": "stdout",
     "output_type": "stream",
     "text": [
      "Count: 256\n",
      "Ref: рекордное снижение спроса на бензин зафиксировано в россии в 2019 году . по данным аналитиков , спрос упал на 1 % в сравнении с прошлогодними показателями . снижение интереса к бензину может быть связано с падением реальных доходов российских граждан , а не с ценами на топливо . автомобиль просто стал « дорогим удовольствием » .\n",
      "Hyp: об этом сообщают « известия » , публикуя результаты исследования группы « петромаркет » и агентства « аналитика товарных рынков » . об этом сообщают « известия » , публикуя результаты исследования группы « петромаркет » и агентства « аналитика товарных рынков » .\n",
      "BLEU:  0.4073267984472872\n",
      "ROUGE:  {'rouge-1': {'f': 0.2800724387822019, 'p': 0.3274300537144721, 'r': 0.26364070523755756}, 'rouge-2': {'f': 0.1220463964908466, 'p': 0.14297612851627922, 'r': 0.11668058121579149}, 'rouge-l': {'f': 0.23357871508449574, 'p': 0.2944439072259674, 'r': 0.2365671133639738}}\n"
     ]
    }
   ],
   "source": [
    "from train_model import punct_detokenize, postprocess\n",
    "\n",
    "model.load_state_dict(torch.load('without_class_weights_best-val-model.pt'))\n",
    "inference_summarunner_without_novelty_with_threshold = inference_summarunner_with_threshold(model, test_iterator, -2)\n",
    "inference_summarunner_without_novelty_with_threshold"
   ]
  },
  {
   "cell_type": "markdown",
   "metadata": {
    "id": "SyXZIk4CGQGk"
   },
   "source": [
    "## Model with novelty\n"
   ]
  },
  {
   "cell_type": "code",
   "execution_count": 39,
   "metadata": {
    "id": "iW7iS76KeEdO"
   },
   "outputs": [],
   "source": [
    "class SentenceEncoderRNN(nn.Module):\n",
    "    def __init__(self, input_size, embedding_dim, hidden_size, n_layers=3, dropout=0.3, bidirectional=True):\n",
    "        super().__init__()\n",
    "\n",
    "        num_directions = 2 if bidirectional else 1\n",
    "        assert hidden_size % num_directions == 0\n",
    "        hidden_size = hidden_size // num_directions\n",
    "\n",
    "        self.embedding_dim = embedding_dim\n",
    "        self.input_size = input_size\n",
    "        self.hidden_size = hidden_size\n",
    "        self.n_layers = n_layers\n",
    "        self.dropout = dropout\n",
    "        self.bidirectional = bidirectional\n",
    "\n",
    "        self.embedding_layer = nn.Embedding(input_size, embedding_dim)\n",
    "        self.rnn_layer = nn.LSTM(embedding_dim, hidden_size, n_layers, dropout=dropout, bidirectional=bidirectional, batch_first=True)\n",
    "        self.dropout_layer = nn.Dropout(dropout)\n",
    "\n",
    "    def forward(self, inputs, hidden=None):\n",
    "        embedded = self.dropout_layer(self.embedding_layer(inputs))\n",
    "        outputs, _ = self.rnn_layer(embedded, hidden)\n",
    "        sentences_embeddings = torch.mean(outputs, 1)\n",
    "        # [batch_size, hidden_size]\n",
    "        return sentences_embeddings\n",
    "\n",
    "class SentenceTaggerRNNWithNovelty(nn.Module):\n",
    "    def __init__(self,\n",
    "                 vocabulary_size,\n",
    "                 use_content=True,\n",
    "                 use_salience=True,\n",
    "                 use_novelty=True,\n",
    "                 token_embedding_dim=128,\n",
    "                 sentence_encoder_hidden_size=256,\n",
    "                 hidden_size=256,\n",
    "                 bidirectional=True,\n",
    "                 sentence_encoder_n_layers=2,\n",
    "                 sentence_encoder_dropout=0.3,\n",
    "                 sentence_encoder_bidirectional=True,\n",
    "                 n_layers=2,\n",
    "                 dropout=0.3):\n",
    "        \n",
    "        super().__init__()\n",
    "\n",
    "        num_directions = 2 if bidirectional else 1\n",
    "        assert hidden_size % num_directions == 0\n",
    "        hidden_size = hidden_size // num_directions\n",
    "\n",
    "        self.hidden_size = hidden_size\n",
    "        self.n_layers = n_layers\n",
    "        self.dropout = dropout\n",
    "        self.bidirectional = bidirectional\n",
    "\n",
    "        self.sentence_encoder = SentenceEncoderRNN(vocabulary_size, token_embedding_dim,\n",
    "                                                   sentence_encoder_hidden_size, sentence_encoder_n_layers, \n",
    "                                                   sentence_encoder_dropout, sentence_encoder_bidirectional)\n",
    "        \n",
    "        self.rnn_layer = nn.LSTM(sentence_encoder_hidden_size, hidden_size, n_layers, dropout=dropout,\n",
    "                           bidirectional=bidirectional, batch_first=True)\n",
    "        \n",
    "        self.dropout_layer = nn.Dropout(dropout)\n",
    "        self.content_linear_layer = nn.Linear(hidden_size * 2, 1)\n",
    "        self.document_linear_layer = nn.Linear(hidden_size * 2, hidden_size * 2)\n",
    "        self.salience_linear_layer = nn.Linear(hidden_size * 2, hidden_size * 2)\n",
    "        self.novelty_linear_layer = nn.Linear(hidden_size * 2, hidden_size * 2) # YOUR CODE\n",
    "        self.tanh_layer = nn.Tanh()\n",
    "\n",
    "        self.use_content = use_content\n",
    "        self.use_salience = use_salience\n",
    "        self.use_novelty = use_novelty\n",
    "\n",
    "    def forward(self, inputs, hidden=None):\n",
    "        # parameters of the probability\n",
    "        content = 0\n",
    "        salience = 0\n",
    "        novelty = 0\n",
    "\n",
    "        # [batch_size, seq num, seq_len]\n",
    "        batch_size = inputs.size(0)\n",
    "        sentences_count = inputs.size(1)\n",
    "        tokens_count = inputs.size(2)\n",
    "        inputs = inputs.reshape(-1, tokens_count)\n",
    "        # [batch_size * seq num, seq_len]\n",
    "\n",
    "        embedded_sentences = self.sentence_encoder(inputs)\n",
    "        embedded_sentences = self.dropout_layer(embedded_sentences.reshape(batch_size, sentences_count, -1))\n",
    "        # [batch_size *  seq num, seq_len, hidden_size] -> [batch_size, seq num, hidden_size]\n",
    "\n",
    "        outputs, _ = self.rnn_layer(embedded_sentences, hidden)\n",
    "        # [batch_size, seq num, hidden_size]\n",
    "\n",
    "        document_embedding = self.tanh_layer(self.document_linear_layer(torch.mean(outputs, 1)))\n",
    "        # [batch_size, hidden_size]\n",
    "\n",
    "        if self.use_content:\n",
    "            content = self.content_linear_layer(outputs).squeeze(2) # 1-representation\n",
    "        # [batch_size, seq num]\n",
    "\n",
    "        # h^T * W * d\n",
    "        if self.use_salience:\n",
    "            salience = torch.bmm(outputs, self.salience_linear_layer(document_embedding).unsqueeze(2)).squeeze(2) # 2-representation\n",
    "        # [batch_size, seq num, hidden_size] * [batch_size, hidden_size, 1] = [batch_size, seq num, ]\n",
    "\n",
    "        if self.use_novelty:\n",
    "            # at every step add novelty to prediction of the sentence\n",
    "            predictions = content + salience\n",
    "            # 0) initialize summary_representation and novelty by zeros\n",
    "            # YOUR CODE\n",
    "            summary_representation = torch.zeros(batch_size, 1, 2*self.hidden_size).to(device)\n",
    "            for sentence_num in range(sentences_count):\n",
    "                # YOUR CODE\n",
    "                # 1) take sentence_num_state from outputs(representation of the sentence with number sentence_num)\n",
    "                sentence_num_state = outputs[:, sentence_num, :].unsqueeze(1) # [batch_size, seq num, hidden_size]\n",
    "                # 2) calculate novelty for the current sentence\n",
    "                # 3) add novelty to predictions\n",
    "                # 4) calculcate probability for current sentence\n",
    "                # 5) add sentence_num_state with the weight which is equal to probability to summary_representation\n",
    "                \n",
    "                novelty = torch.bmm(sentence_num_state, self.novelty_linear_layer(torch.tanh(summary_representation)).permute(0,2,1)).squeeze(1)\n",
    "                  \n",
    "                probability = torch.sigmoid(predictions[:, sentence_num].unsqueeze(1) - novelty) \n",
    "                s = torch.bmm(probability.unsqueeze(1), sentence_num_state)\n",
    "                    \n",
    "                summary_representation += s \n",
    "                   \n",
    "        return content + salience - novelty"
   ]
  },
  {
   "cell_type": "code",
   "execution_count": 40,
   "metadata": {
    "colab": {
     "base_uri": "https://localhost:8080/"
    },
    "id": "-QC1ZmuQfB7f",
    "outputId": "da0686df-9199-4c6d-bc68-577604ea722b"
   },
   "outputs": [
    {
     "name": "stdout",
     "output_type": "stream",
     "text": [
      "Trainable params: 2927617\n"
     ]
    }
   ],
   "source": [
    "vocab_size = len(vocabulary)\n",
    "model = SentenceTaggerRNNWithNovelty(vocab_size).to(device)\n",
    "\n",
    "params_count = np.sum([p.numel() for p in model.parameters() if p.requires_grad])\n",
    "print(\"Trainable params: {}\".format(params_count))"
   ]
  },
  {
   "cell_type": "code",
   "execution_count": 41,
   "metadata": {
    "colab": {
     "base_uri": "https://localhost:8080/"
    },
    "id": "f9Q3aFHhgsB4",
    "outputId": "556942f4-7ada-4064-e9d5-825aab6334cd"
   },
   "outputs": [
    {
     "name": "stdout",
     "output_type": "stream",
     "text": [
      "sentence_encoder.embedding_layer.weight: 1280000\n",
      "sentence_encoder.rnn_layer.weight_ih_l0: 65536\n",
      "sentence_encoder.rnn_layer.weight_hh_l0: 65536\n",
      "sentence_encoder.rnn_layer.bias_ih_l0: 512\n",
      "sentence_encoder.rnn_layer.bias_hh_l0: 512\n",
      "sentence_encoder.rnn_layer.weight_ih_l0_reverse: 65536\n",
      "sentence_encoder.rnn_layer.weight_hh_l0_reverse: 65536\n",
      "sentence_encoder.rnn_layer.bias_ih_l0_reverse: 512\n",
      "sentence_encoder.rnn_layer.bias_hh_l0_reverse: 512\n",
      "sentence_encoder.rnn_layer.weight_ih_l1: 131072\n",
      "sentence_encoder.rnn_layer.weight_hh_l1: 65536\n",
      "sentence_encoder.rnn_layer.bias_ih_l1: 512\n",
      "sentence_encoder.rnn_layer.bias_hh_l1: 512\n",
      "sentence_encoder.rnn_layer.weight_ih_l1_reverse: 131072\n",
      "sentence_encoder.rnn_layer.weight_hh_l1_reverse: 65536\n",
      "sentence_encoder.rnn_layer.bias_ih_l1_reverse: 512\n",
      "sentence_encoder.rnn_layer.bias_hh_l1_reverse: 512\n",
      "rnn_layer.weight_ih_l0: 131072\n",
      "rnn_layer.weight_hh_l0: 65536\n",
      "rnn_layer.bias_ih_l0: 512\n",
      "rnn_layer.bias_hh_l0: 512\n",
      "rnn_layer.weight_ih_l0_reverse: 131072\n",
      "rnn_layer.weight_hh_l0_reverse: 65536\n",
      "rnn_layer.bias_ih_l0_reverse: 512\n",
      "rnn_layer.bias_hh_l0_reverse: 512\n",
      "rnn_layer.weight_ih_l1: 131072\n",
      "rnn_layer.weight_hh_l1: 65536\n",
      "rnn_layer.bias_ih_l1: 512\n",
      "rnn_layer.bias_hh_l1: 512\n",
      "rnn_layer.weight_ih_l1_reverse: 131072\n",
      "rnn_layer.weight_hh_l1_reverse: 65536\n",
      "rnn_layer.bias_ih_l1_reverse: 512\n",
      "rnn_layer.bias_hh_l1_reverse: 512\n",
      "content_linear_layer.weight: 256\n",
      "content_linear_layer.bias: 1\n",
      "document_linear_layer.weight: 65536\n",
      "document_linear_layer.bias: 256\n",
      "salience_linear_layer.weight: 65536\n",
      "salience_linear_layer.bias: 256\n",
      "novelty_linear_layer.weight: 65536\n",
      "novelty_linear_layer.bias: 256\n"
     ]
    }
   ],
   "source": [
    "for name, param in model.named_parameters():\n",
    "    print(f\"{name}: {param.numel()}\")"
   ]
  },
  {
   "cell_type": "code",
   "execution_count": 42,
   "metadata": {
    "colab": {
     "base_uri": "https://localhost:8080/"
    },
    "id": "05s8UWh81cjG",
    "outputId": "32423205-c83a-4bbc-f563-3089dfe599e2"
   },
   "outputs": [
    {
     "name": "stdout",
     "output_type": "stream",
     "text": [
      "Downloading...\n",
      "From: https://drive.google.com/uc?id=1Wr1C3i8hy7TONdJWKhIr0CzqwMySWHN0\n",
      "To: /content/train_model.py\n",
      "100% 4.75k/4.75k [00:00<00:00, 7.76MB/s]\n"
     ]
    }
   ],
   "source": [
    "!gdown https://drive.google.com/uc?id=1Wr1C3i8hy7TONdJWKhIr0CzqwMySWHN0 -O train_model.py \n",
    "import train_model\n",
    "import imp \n",
    "imp.reload(train_model)\n",
    "from train_model import train_with_logs"
   ]
  },
  {
   "cell_type": "code",
   "execution_count": 43,
   "metadata": {
    "colab": {
     "base_uri": "https://localhost:8080/",
     "height": 576
    },
    "id": "rwrhG4v71yts",
    "outputId": "028bf9d5-91bb-40c1-81ab-8fae6a2a4251"
   },
   "outputs": [
    {
     "data": {
      "image/png": "[encoded data removed]",
      "text/plain": [
       "<Figure size 864x576 with 2 Axes>"
      ]
     },
     "metadata": {
      "needs_background": "light",
      "tags": []
     },
     "output_type": "display_data"
    },
    {
     "name": "stdout",
     "output_type": "stream",
     "text": [
      "Epoch: 03 | Time: 0m 10s\n",
      "\tTrain Loss: 0.680 | Train PPL:   1.974\n",
      "\t Val. Loss: 0.678 |  Val. PPL:   1.971\n"
     ]
    }
   ],
   "source": [
    "N_EPOCHS = 3\n",
    "CLIP = 1.0\n",
    "\n",
    "\n",
    "train(True, N_EPOCHS, CLIP, lr=1e-5)"
   ]
  },
  {
   "cell_type": "code",
   "execution_count": 44,
   "metadata": {
    "colab": {
     "base_uri": "https://localhost:8080/"
    },
    "id": "d0LvrKYOZDgR",
    "outputId": "b30bcfd6-b032-4ac1-ece6-b32ecda5a9af"
   },
   "outputs": [
    {
     "name": "stdout",
     "output_type": "stream",
     "text": [
      "Count: 256\n",
      "Ref: заявление эммануэля макрона о « смерти мозга нато » вызвало раздражение и непонимание ангелы меркель . в ходе обеда , посвященного 30-й годовщине падения берлинской стены , канцлер германии заявила французскому коллеге , что устала « склеивать разбитые им чашки » . отношения между странами переживают непростой период , а противоречия лидеров касаются не только целесообразности сохранения военного альянса .\n",
      "Hyp: отношения франции и германии переживают не лучшие времена из-за противоречий между лидерами стран эммануэлем макроном и ангелой меркель . разногласия политиков касаются сразу нескольких внешнеполитических аспектов , в частности , отношения к нато и его роли в европе . как сообщает the new york times , канцлер германии высказала свое раздражение французскому лидеру в ходе обеда , посвященного 30-й годовщине падения берлинской стены .\n",
      "BLEU:  0.44795283419371623\n",
      "ROUGE:  {'rouge-1': {'f': 0.3171462701656167, 'p': 0.3025671151491808, 'r': 0.3533441620058064}, 'rouge-2': {'f': 0.14269949626796796, 'p': 0.13443582290634556, 'r': 0.16352967708138902}, 'rouge-l': {'f': 0.27135140194436375, 'p': 0.2733304239350226, 'r': 0.3186778293726276}}\n"
     ]
    }
   ],
   "source": [
    "from train_model import punct_detokenize, postprocess\n",
    "\n",
    "\n",
    "model.load_state_dict(torch.load('novelty_with_weights_best-val-model.pt'))\n",
    "inference_summarunner_with_novelty = inference_summarunner(model, test_iterator, 3)\n",
    "inference_summarunner_with_novelty"
   ]
  },
  {
   "cell_type": "code",
   "execution_count": 45,
   "metadata": {
    "colab": {
     "base_uri": "https://localhost:8080/"
    },
    "id": "BglIjXsavUfH",
    "outputId": "ddb777d2-b897-488a-a053-88e17b39895e"
   },
   "outputs": [
    {
     "name": "stdout",
     "output_type": "stream",
     "text": [
      "Count: 256\n",
      "Ref: депутат бундестага от « альтернативы для германии » антон фризен заявил , что антироссийские санкции « не вернут крым украине » . по его словам , российский флаг над полуостровом — это реальное положение дел . основным выгодополучателем от санкций против рф является вашингтон , добавил немецкий парламентарий . именно фризен ранее внес законопроект об отмене санкций , но бундестаг отклонил эту инициативу .\n",
      "Hyp: об этом сообщает риа « новости » . об этом сообщает риа « новости » .\n",
      "BLEU:  0.40143554772126594\n",
      "ROUGE:  {'rouge-1': {'f': 0.2752292026809347, 'p': 0.3245232734979655, 'r': 0.25850852101414146}, 'rouge-2': {'f': 0.12021697785427249, 'p': 0.1418515911663989, 'r': 0.11460018158141026}, 'rouge-l': {'f': 0.22828191383546095, 'p': 0.2902917748954956, 'r': 0.22980792379632045}}\n"
     ]
    }
   ],
   "source": [
    "from train_model import punct_detokenize, postprocess\n",
    "\n",
    "\n",
    "model.load_state_dict(torch.load('novelty_with_weights_best-val-model.pt'))\n",
    "inference_summarunner_with_novelty_and_threshold = inference_summarunner_with_threshold(model, test_iterator, -0.6)\n",
    "inference_summarunner_with_novelty_and_threshold"
   ]
  },
  {
   "cell_type": "code",
   "execution_count": 75,
   "metadata": {
    "colab": {
     "base_uri": "https://localhost:8080/",
     "height": 576
    },
    "id": "ifK9RuZQvCAr",
    "outputId": "58f35fe5-a3de-4598-85ea-b03957c3b47b"
   },
   "outputs": [
    {
     "data": {
      "image/png": "[encoded data removed]",
      "text/plain": [
       "<Figure size 864x576 with 2 Axes>"
      ]
     },
     "metadata": {
      "needs_background": "light",
      "tags": []
     },
     "output_type": "display_data"
    },
    {
     "name": "stdout",
     "output_type": "stream",
     "text": [
      "Epoch: 20 | Time: 0m 10s\n",
      "\tTrain Loss: 0.241 | Train PPL:   1.273\n",
      "\t Val. Loss: 0.263 |  Val. PPL:   1.301\n"
     ]
    }
   ],
   "source": [
    "!gdown https://drive.google.com/uc?id=1Wr1C3i8hy7TONdJWKhIr0CzqwMySWHN0 -O train_model.py \n",
    "import train_model\n",
    "import imp \n",
    "imp.reload(train_model)\n",
    "from train_model import train_with_logs\n",
    "train(False, N_EPOCHS=20, CLIP=1.0, lr=0.00001)"
   ]
  },
  {
   "cell_type": "markdown",
   "metadata": {
    "id": "vuv4Sh2Vj5Yr"
   },
   "source": [
    "## Inference"
   ]
  },
  {
   "cell_type": "code",
   "execution_count": 76,
   "metadata": {
    "colab": {
     "base_uri": "https://localhost:8080/"
    },
    "id": "wZ96X37bb_PV",
    "outputId": "18b9dbe3-e3fb-4397-a283-3c72fd5d91c9"
   },
   "outputs": [
    {
     "name": "stdout",
     "output_type": "stream",
     "text": [
      "Count: 256\n",
      "Ref: на украине открыто признают , что в этом году договор с россией о транзите газа может быть не заключен . переговоры могут продолжиться весной 2020 года . текущий контракт заканчивается в конце года , но стороны никак не могут прийти к компромиссному варианту . киев хочет добиться компенсации от россии по судебным спорам и заключения долгосрочного договора , а москве это не выгодно .\n",
      "Hyp: глава компании « нафтогаз украины » андрей коболев выразил надежду , что в случае провала переговоров по газу в формате россия - ес - украина в декабре диалог удастся возобновить весной 2020 года . « надеюсь , что даже если контракт не будет подписан сейчас , то в апреле — мае вернемся к этой дискуссии с российской и европейской сторонами » , — цитирует коболева украинское издание « зеркало недели » . по его словам , если сенат сша утвердит санкции по « серверному потоку — 2 » , а президент сша дональд трамп их подпишет , то подписание контракта на транзит газа произойдет в ближайшие недели .\n",
      "BLEU:  0.4483358093852308\n",
      "ROUGE:  {'rouge-1': {'f': 0.3173318124753691, 'p': 0.3031341514395034, 'r': 0.35319675634542896}, 'rouge-2': {'f': 0.14277322190268446, 'p': 0.13475932187114892, 'r': 0.1633972618271516}, 'rouge-l': {'f': 0.2715462303275749, 'p': 0.27392581203986116, 'r': 0.3186041265424391}}\n"
     ]
    }
   ],
   "source": [
    "from train_model import punct_detokenize, postprocess\n",
    "\n",
    "\n",
    "model.load_state_dict(torch.load('novelty_without_weights_best-val-model.pt'))\n",
    "inference_summarunner(model, test_iterator, 3)"
   ]
  },
  {
   "cell_type": "code",
   "execution_count": 81,
   "metadata": {
    "colab": {
     "base_uri": "https://localhost:8080/"
    },
    "id": "2xszuCrEqbrn",
    "outputId": "983c4664-8620-4714-fc98-38b3c22469cd"
   },
   "outputs": [
    {
     "name": "stdout",
     "output_type": "stream",
     "text": [
      "Count: 256\n",
      "Ref: национальная хоккейная лига , приостановившая свой регулярный чемпионат из-за пандемии коронавируса , не собирается аннулировать сезон . руководство лиги и владельцы клубов хотят во что бы то ни стало провести кубок стэнли , иначе экономические последствия будут для команд катастрофическими .\n",
      "Hyp: все будет зависеть от дальнейшего развития событий . « мы рассматриваем каждую возможную альтернативу .\n",
      "BLEU:  0.3430638653591284\n",
      "ROUGE:  {'rouge-1': {'f': 0.23348014521973517, 'p': 0.28533680103614845, 'r': 0.21342717518676912}, 'rouge-2': {'f': 0.0864550596651505, 'p': 0.10640821358067566, 'r': 0.07865415095005145}, 'rouge-l': {'f': 0.19315441516852244, 'p': 0.2574432365427967, 'r': 0.19021300692149165}}\n"
     ]
    }
   ],
   "source": [
    "from train_model import punct_detokenize, postprocess\n",
    "\n",
    "\n",
    "model.load_state_dict(torch.load('novelty_without_weights_best-val-model.pt'))\n",
    "inference_summarunner_with_novelty_and_threshold = inference_summarunner_with_threshold(model, test_iterator, -1)\n",
    "inference_summarunner_with_novelty_and_threshold"
   ]
  },
  {
   "cell_type": "code",
   "execution_count": null,
   "metadata": {
    "id": "oAQ9P9xgYr3-"
   },
   "outputs": [],
   "source": []
  }
 ],
 "metadata": {
  "accelerator": "GPU",
  "colab": {
   "collapsed_sections": [],
   "name": "SummaRuNNer.ipynb",
   "provenance": []
  },
  "kernelspec": {
   "display_name": "Python 3",
   "language": "python",
   "name": "python3"
  },
  "language_info": {
   "codemirror_mode": {
    "name": "ipython",
    "version": 3
   },
   "file_extension": ".py",
   "mimetype": "text/x-python",
   "name": "python",
   "nbconvert_exporter": "python",
   "pygments_lexer": "ipython3",
   "version": "3.9.1"
  },
  "widgets": {
   "application/vnd.jupyter.widget-state+json": {
    "128bb7fd0184407ab6ccb2c394a0475f": {
     "model_module": "@jupyter-widgets/controls",
     "model_name": "FloatProgressModel",
     "state": {
      "_dom_classes": [],
      "_model_module": "@jupyter-widgets/controls",
      "_model_module_version": "1.5.0",
      "_model_name": "FloatProgressModel",
      "_view_count": null,
      "_view_module": "@jupyter-widgets/controls",
      "_view_module_version": "1.5.0",
      "_view_name": "ProgressView",
      "bar_style": "danger",
      "description": "",
      "description_tooltip": null,
      "layout": "IPY_MODEL_911998dc3b1f49ab9a4eae9b9eda3f02",
      "max": 1,
      "min": 0,
      "orientation": "horizontal",
      "style": "IPY_MODEL_f17ab679db72466ba4cea6ba018a97b5",
      "value": 1
     }
    },
    "1827e0af1c88436aacad270935cb66b7": {
     "model_module": "@jupyter-widgets/controls",
     "model_name": "HTMLModel",
     "state": {
      "_dom_classes": [],
      "_model_module": "@jupyter-widgets/controls",
      "_model_module_version": "1.5.0",
      "_model_name": "HTMLModel",
      "_view_count": null,
      "_view_module": "@jupyter-widgets/controls",
      "_view_module_version": "1.5.0",
      "_view_name": "HTMLView",
      "description": "",
      "description_tooltip": null,
      "layout": "IPY_MODEL_a7970247c902440a8a0b8dfc02456b8f",
      "placeholder": "​",
      "style": "IPY_MODEL_852c7e32611942bdbd200a717ed061bb",
      "value": " 256/? [00:45&lt;00:00,  4.02it/s]"
     }
    },
    "22b0da7bbd6d45f59b20a23a052e3814": {
     "model_module": "@jupyter-widgets/base",
     "model_name": "LayoutModel",
     "state": {
      "_model_module": "@jupyter-widgets/base",
      "_model_module_version": "1.2.0",
      "_model_name": "LayoutModel",
      "_view_count": null,
      "_view_module": "@jupyter-widgets/base",
      "_view_module_version": "1.2.0",
      "_view_name": "LayoutView",
      "align_content": null,
      "align_items": null,
      "align_self": null,
      "border": null,
      "bottom": null,
      "display": null,
      "flex": null,
      "flex_flow": null,
      "grid_area": null,
      "grid_auto_columns": null,
      "grid_auto_flow": null,
      "grid_auto_rows": null,
      "grid_column": null,
      "grid_gap": null,
      "grid_row": null,
      "grid_template_areas": null,
      "grid_template_columns": null,
      "grid_template_rows": null,
      "height": null,
      "justify_content": null,
      "justify_items": null,
      "left": null,
      "margin": null,
      "max_height": null,
      "max_width": null,
      "min_height": null,
      "min_width": null,
      "object_fit": null,
      "object_position": null,
      "order": null,
      "overflow": null,
      "overflow_x": null,
      "overflow_y": null,
      "padding": null,
      "right": null,
      "top": null,
      "visibility": null,
      "width": null
     }
    },
    "262b57fb244e462e956def4c1bc8e8d9": {
     "model_module": "@jupyter-widgets/controls",
     "model_name": "DescriptionStyleModel",
     "state": {
      "_model_module": "@jupyter-widgets/controls",
      "_model_module_version": "1.5.0",
      "_model_name": "DescriptionStyleModel",
      "_view_count": null,
      "_view_module": "@jupyter-widgets/base",
      "_view_module_version": "1.2.0",
      "_view_name": "StyleView",
      "description_width": ""
     }
    },
    "4ba0196bcf0f404082bff0d522557f09": {
     "model_module": "@jupyter-widgets/base",
     "model_name": "LayoutModel",
     "state": {
      "_model_module": "@jupyter-widgets/base",
      "_model_module_version": "1.2.0",
      "_model_name": "LayoutModel",
      "_view_count": null,
      "_view_module": "@jupyter-widgets/base",
      "_view_module_version": "1.2.0",
      "_view_name": "LayoutView",
      "align_content": null,
      "align_items": null,
      "align_self": null,
      "border": null,
      "bottom": null,
      "display": null,
      "flex": null,
      "flex_flow": null,
      "grid_area": null,
      "grid_auto_columns": null,
      "grid_auto_flow": null,
      "grid_auto_rows": null,
      "grid_column": null,
      "grid_gap": null,
      "grid_row": null,
      "grid_template_areas": null,
      "grid_template_columns": null,
      "grid_template_rows": null,
      "height": null,
      "justify_content": null,
      "justify_items": null,
      "left": null,
      "margin": null,
      "max_height": null,
      "max_width": null,
      "min_height": null,
      "min_width": null,
      "object_fit": null,
      "object_position": null,
      "order": null,
      "overflow": null,
      "overflow_x": null,
      "overflow_y": null,
      "padding": null,
      "right": null,
      "top": null,
      "visibility": null,
      "width": null
     }
    },
    "4fd0245bcca742e9b08b2114b3640ada": {
     "model_module": "@jupyter-widgets/controls",
     "model_name": "HBoxModel",
     "state": {
      "_dom_classes": [],
      "_model_module": "@jupyter-widgets/controls",
      "_model_module_version": "1.5.0",
      "_model_name": "HBoxModel",
      "_view_count": null,
      "_view_module": "@jupyter-widgets/controls",
      "_view_module_version": "1.5.0",
      "_view_name": "HBoxView",
      "box_style": "",
      "children": [
       "IPY_MODEL_e501687de7f94c7c851fdc37518db916",
       "IPY_MODEL_9e741c4e265148ea9a07d14483f867e8"
      ],
      "layout": "IPY_MODEL_f49374b048b142eab57256aedafd0a79"
     }
    },
    "5072603bc2744c74aa64b52638946b7f": {
     "model_module": "@jupyter-widgets/controls",
     "model_name": "DescriptionStyleModel",
     "state": {
      "_model_module": "@jupyter-widgets/controls",
      "_model_module_version": "1.5.0",
      "_model_name": "DescriptionStyleModel",
      "_view_count": null,
      "_view_module": "@jupyter-widgets/base",
      "_view_module_version": "1.2.0",
      "_view_name": "StyleView",
      "description_width": ""
     }
    },
    "576c092af0c945d8b96fc3ce1eb1bad6": {
     "model_module": "@jupyter-widgets/controls",
     "model_name": "HBoxModel",
     "state": {
      "_dom_classes": [],
      "_model_module": "@jupyter-widgets/controls",
      "_model_module_version": "1.5.0",
      "_model_name": "HBoxModel",
      "_view_count": null,
      "_view_module": "@jupyter-widgets/controls",
      "_view_module_version": "1.5.0",
      "_view_name": "HBoxView",
      "box_style": "",
      "children": [
       "IPY_MODEL_d5092ce65ca24e6f8de4c269d2b4edad",
       "IPY_MODEL_78957e42ac034514b93422e1ef79fd4b"
      ],
      "layout": "IPY_MODEL_be377859ba0442c683b728bea116eef4"
     }
    },
    "78957e42ac034514b93422e1ef79fd4b": {
     "model_module": "@jupyter-widgets/controls",
     "model_name": "HTMLModel",
     "state": {
      "_dom_classes": [],
      "_model_module": "@jupyter-widgets/controls",
      "_model_module_version": "1.5.0",
      "_model_name": "HTMLModel",
      "_view_count": null,
      "_view_module": "@jupyter-widgets/controls",
      "_view_module_version": "1.5.0",
      "_view_name": "HTMLView",
      "description": "",
      "description_tooltip": null,
      "layout": "IPY_MODEL_e0fe1bbce02e4e83ae0f7ff7a33c2492",
      "placeholder": "​",
      "style": "IPY_MODEL_5072603bc2744c74aa64b52638946b7f",
      "value": " 256/? [00:55&lt;00:00,  3.98it/s]"
     }
    },
    "852c7e32611942bdbd200a717ed061bb": {
     "model_module": "@jupyter-widgets/controls",
     "model_name": "DescriptionStyleModel",
     "state": {
      "_model_module": "@jupyter-widgets/controls",
      "_model_module_version": "1.5.0",
      "_model_name": "DescriptionStyleModel",
      "_view_count": null,
      "_view_module": "@jupyter-widgets/base",
      "_view_module_version": "1.2.0",
      "_view_name": "StyleView",
      "description_width": ""
     }
    },
    "911998dc3b1f49ab9a4eae9b9eda3f02": {
     "model_module": "@jupyter-widgets/base",
     "model_name": "LayoutModel",
     "state": {
      "_model_module": "@jupyter-widgets/base",
      "_model_module_version": "1.2.0",
      "_model_name": "LayoutModel",
      "_view_count": null,
      "_view_module": "@jupyter-widgets/base",
      "_view_module_version": "1.2.0",
      "_view_name": "LayoutView",
      "align_content": null,
      "align_items": null,
      "align_self": null,
      "border": null,
      "bottom": null,
      "display": null,
      "flex": null,
      "flex_flow": null,
      "grid_area": null,
      "grid_auto_columns": null,
      "grid_auto_flow": null,
      "grid_auto_rows": null,
      "grid_column": null,
      "grid_gap": null,
      "grid_row": null,
      "grid_template_areas": null,
      "grid_template_columns": null,
      "grid_template_rows": null,
      "height": null,
      "justify_content": null,
      "justify_items": null,
      "left": null,
      "margin": null,
      "max_height": null,
      "max_width": null,
      "min_height": null,
      "min_width": null,
      "object_fit": null,
      "object_position": null,
      "order": null,
      "overflow": null,
      "overflow_x": null,
      "overflow_y": null,
      "padding": null,
      "right": null,
      "top": null,
      "visibility": null,
      "width": null
     }
    },
    "9a91aaa250434eeebe2fd88df6c49473": {
     "model_module": "@jupyter-widgets/controls",
     "model_name": "ProgressStyleModel",
     "state": {
      "_model_module": "@jupyter-widgets/controls",
      "_model_module_version": "1.5.0",
      "_model_name": "ProgressStyleModel",
      "_view_count": null,
      "_view_module": "@jupyter-widgets/base",
      "_view_module_version": "1.2.0",
      "_view_name": "StyleView",
      "bar_color": null,
      "description_width": "initial"
     }
    },
    "9e741c4e265148ea9a07d14483f867e8": {
     "model_module": "@jupyter-widgets/controls",
     "model_name": "HTMLModel",
     "state": {
      "_dom_classes": [],
      "_model_module": "@jupyter-widgets/controls",
      "_model_module_version": "1.5.0",
      "_model_name": "HTMLModel",
      "_view_count": null,
      "_view_module": "@jupyter-widgets/controls",
      "_view_module_version": "1.5.0",
      "_view_name": "HTMLView",
      "description": "",
      "description_tooltip": null,
      "layout": "IPY_MODEL_b912e81d83c448d9b42325ed544d6ba6",
      "placeholder": "​",
      "style": "IPY_MODEL_262b57fb244e462e956def4c1bc8e8d9",
      "value": " 2048/? [05:20&lt;00:00,  9.92it/s]"
     }
    },
    "a17512c911574434bfe33d0ff229fbb2": {
     "model_module": "@jupyter-widgets/base",
     "model_name": "LayoutModel",
     "state": {
      "_model_module": "@jupyter-widgets/base",
      "_model_module_version": "1.2.0",
      "_model_name": "LayoutModel",
      "_view_count": null,
      "_view_module": "@jupyter-widgets/base",
      "_view_module_version": "1.2.0",
      "_view_name": "LayoutView",
      "align_content": null,
      "align_items": null,
      "align_self": null,
      "border": null,
      "bottom": null,
      "display": null,
      "flex": null,
      "flex_flow": null,
      "grid_area": null,
      "grid_auto_columns": null,
      "grid_auto_flow": null,
      "grid_auto_rows": null,
      "grid_column": null,
      "grid_gap": null,
      "grid_row": null,
      "grid_template_areas": null,
      "grid_template_columns": null,
      "grid_template_rows": null,
      "height": null,
      "justify_content": null,
      "justify_items": null,
      "left": null,
      "margin": null,
      "max_height": null,
      "max_width": null,
      "min_height": null,
      "min_width": null,
      "object_fit": null,
      "object_position": null,
      "order": null,
      "overflow": null,
      "overflow_x": null,
      "overflow_y": null,
      "padding": null,
      "right": null,
      "top": null,
      "visibility": null,
      "width": null
     }
    },
    "a7970247c902440a8a0b8dfc02456b8f": {
     "model_module": "@jupyter-widgets/base",
     "model_name": "LayoutModel",
     "state": {
      "_model_module": "@jupyter-widgets/base",
      "_model_module_version": "1.2.0",
      "_model_name": "LayoutModel",
      "_view_count": null,
      "_view_module": "@jupyter-widgets/base",
      "_view_module_version": "1.2.0",
      "_view_name": "LayoutView",
      "align_content": null,
      "align_items": null,
      "align_self": null,
      "border": null,
      "bottom": null,
      "display": null,
      "flex": null,
      "flex_flow": null,
      "grid_area": null,
      "grid_auto_columns": null,
      "grid_auto_flow": null,
      "grid_auto_rows": null,
      "grid_column": null,
      "grid_gap": null,
      "grid_row": null,
      "grid_template_areas": null,
      "grid_template_columns": null,
      "grid_template_rows": null,
      "height": null,
      "justify_content": null,
      "justify_items": null,
      "left": null,
      "margin": null,
      "max_height": null,
      "max_width": null,
      "min_height": null,
      "min_width": null,
      "object_fit": null,
      "object_position": null,
      "order": null,
      "overflow": null,
      "overflow_x": null,
      "overflow_y": null,
      "padding": null,
      "right": null,
      "top": null,
      "visibility": null,
      "width": null
     }
    },
    "b69c0a36a3ee4ccfa9978051b2518f7c": {
     "model_module": "@jupyter-widgets/controls",
     "model_name": "ProgressStyleModel",
     "state": {
      "_model_module": "@jupyter-widgets/controls",
      "_model_module_version": "1.5.0",
      "_model_name": "ProgressStyleModel",
      "_view_count": null,
      "_view_module": "@jupyter-widgets/base",
      "_view_module_version": "1.2.0",
      "_view_name": "StyleView",
      "bar_color": null,
      "description_width": "initial"
     }
    },
    "b912e81d83c448d9b42325ed544d6ba6": {
     "model_module": "@jupyter-widgets/base",
     "model_name": "LayoutModel",
     "state": {
      "_model_module": "@jupyter-widgets/base",
      "_model_module_version": "1.2.0",
      "_model_name": "LayoutModel",
      "_view_count": null,
      "_view_module": "@jupyter-widgets/base",
      "_view_module_version": "1.2.0",
      "_view_name": "LayoutView",
      "align_content": null,
      "align_items": null,
      "align_self": null,
      "border": null,
      "bottom": null,
      "display": null,
      "flex": null,
      "flex_flow": null,
      "grid_area": null,
      "grid_auto_columns": null,
      "grid_auto_flow": null,
      "grid_auto_rows": null,
      "grid_column": null,
      "grid_gap": null,
      "grid_row": null,
      "grid_template_areas": null,
      "grid_template_columns": null,
      "grid_template_rows": null,
      "height": null,
      "justify_content": null,
      "justify_items": null,
      "left": null,
      "margin": null,
      "max_height": null,
      "max_width": null,
      "min_height": null,
      "min_width": null,
      "object_fit": null,
      "object_position": null,
      "order": null,
      "overflow": null,
      "overflow_x": null,
      "overflow_y": null,
      "padding": null,
      "right": null,
      "top": null,
      "visibility": null,
      "width": null
     }
    },
    "be377859ba0442c683b728bea116eef4": {
     "model_module": "@jupyter-widgets/base",
     "model_name": "LayoutModel",
     "state": {
      "_model_module": "@jupyter-widgets/base",
      "_model_module_version": "1.2.0",
      "_model_name": "LayoutModel",
      "_view_count": null,
      "_view_module": "@jupyter-widgets/base",
      "_view_module_version": "1.2.0",
      "_view_name": "LayoutView",
      "align_content": null,
      "align_items": null,
      "align_self": null,
      "border": null,
      "bottom": null,
      "display": null,
      "flex": null,
      "flex_flow": null,
      "grid_area": null,
      "grid_auto_columns": null,
      "grid_auto_flow": null,
      "grid_auto_rows": null,
      "grid_column": null,
      "grid_gap": null,
      "grid_row": null,
      "grid_template_areas": null,
      "grid_template_columns": null,
      "grid_template_rows": null,
      "height": null,
      "justify_content": null,
      "justify_items": null,
      "left": null,
      "margin": null,
      "max_height": null,
      "max_width": null,
      "min_height": null,
      "min_width": null,
      "object_fit": null,
      "object_position": null,
      "order": null,
      "overflow": null,
      "overflow_x": null,
      "overflow_y": null,
      "padding": null,
      "right": null,
      "top": null,
      "visibility": null,
      "width": null
     }
    },
    "d5092ce65ca24e6f8de4c269d2b4edad": {
     "model_module": "@jupyter-widgets/controls",
     "model_name": "FloatProgressModel",
     "state": {
      "_dom_classes": [],
      "_model_module": "@jupyter-widgets/controls",
      "_model_module_version": "1.5.0",
      "_model_name": "FloatProgressModel",
      "_view_count": null,
      "_view_module": "@jupyter-widgets/controls",
      "_view_module_version": "1.5.0",
      "_view_name": "ProgressView",
      "bar_style": "danger",
      "description": "",
      "description_tooltip": null,
      "layout": "IPY_MODEL_4ba0196bcf0f404082bff0d522557f09",
      "max": 1,
      "min": 0,
      "orientation": "horizontal",
      "style": "IPY_MODEL_9a91aaa250434eeebe2fd88df6c49473",
      "value": 1
     }
    },
    "e0fe1bbce02e4e83ae0f7ff7a33c2492": {
     "model_module": "@jupyter-widgets/base",
     "model_name": "LayoutModel",
     "state": {
      "_model_module": "@jupyter-widgets/base",
      "_model_module_version": "1.2.0",
      "_model_name": "LayoutModel",
      "_view_count": null,
      "_view_module": "@jupyter-widgets/base",
      "_view_module_version": "1.2.0",
      "_view_name": "LayoutView",
      "align_content": null,
      "align_items": null,
      "align_self": null,
      "border": null,
      "bottom": null,
      "display": null,
      "flex": null,
      "flex_flow": null,
      "grid_area": null,
      "grid_auto_columns": null,
      "grid_auto_flow": null,
      "grid_auto_rows": null,
      "grid_column": null,
      "grid_gap": null,
      "grid_row": null,
      "grid_template_areas": null,
      "grid_template_columns": null,
      "grid_template_rows": null,
      "height": null,
      "justify_content": null,
      "justify_items": null,
      "left": null,
      "margin": null,
      "max_height": null,
      "max_width": null,
      "min_height": null,
      "min_width": null,
      "object_fit": null,
      "object_position": null,
      "order": null,
      "overflow": null,
      "overflow_x": null,
      "overflow_y": null,
      "padding": null,
      "right": null,
      "top": null,
      "visibility": null,
      "width": null
     }
    },
    "e501687de7f94c7c851fdc37518db916": {
     "model_module": "@jupyter-widgets/controls",
     "model_name": "FloatProgressModel",
     "state": {
      "_dom_classes": [],
      "_model_module": "@jupyter-widgets/controls",
      "_model_module_version": "1.5.0",
      "_model_name": "FloatProgressModel",
      "_view_count": null,
      "_view_module": "@jupyter-widgets/controls",
      "_view_module_version": "1.5.0",
      "_view_name": "ProgressView",
      "bar_style": "danger",
      "description": "",
      "description_tooltip": null,
      "layout": "IPY_MODEL_22b0da7bbd6d45f59b20a23a052e3814",
      "max": 1,
      "min": 0,
      "orientation": "horizontal",
      "style": "IPY_MODEL_b69c0a36a3ee4ccfa9978051b2518f7c",
      "value": 1
     }
    },
    "f17ab679db72466ba4cea6ba018a97b5": {
     "model_module": "@jupyter-widgets/controls",
     "model_name": "ProgressStyleModel",
     "state": {
      "_model_module": "@jupyter-widgets/controls",
      "_model_module_version": "1.5.0",
      "_model_name": "ProgressStyleModel",
      "_view_count": null,
      "_view_module": "@jupyter-widgets/base",
      "_view_module_version": "1.2.0",
      "_view_name": "StyleView",
      "bar_color": null,
      "description_width": "initial"
     }
    },
    "f49374b048b142eab57256aedafd0a79": {
     "model_module": "@jupyter-widgets/base",
     "model_name": "LayoutModel",
     "state": {
      "_model_module": "@jupyter-widgets/base",
      "_model_module_version": "1.2.0",
      "_model_name": "LayoutModel",
      "_view_count": null,
      "_view_module": "@jupyter-widgets/base",
      "_view_module_version": "1.2.0",
      "_view_name": "LayoutView",
      "align_content": null,
      "align_items": null,
      "align_self": null,
      "border": null,
      "bottom": null,
      "display": null,
      "flex": null,
      "flex_flow": null,
      "grid_area": null,
      "grid_auto_columns": null,
      "grid_auto_flow": null,
      "grid_auto_rows": null,
      "grid_column": null,
      "grid_gap": null,
      "grid_row": null,
      "grid_template_areas": null,
      "grid_template_columns": null,
      "grid_template_rows": null,
      "height": null,
      "justify_content": null,
      "justify_items": null,
      "left": null,
      "margin": null,
      "max_height": null,
      "max_width": null,
      "min_height": null,
      "min_width": null,
      "object_fit": null,
      "object_position": null,
      "order": null,
      "overflow": null,
      "overflow_x": null,
      "overflow_y": null,
      "padding": null,
      "right": null,
      "top": null,
      "visibility": null,
      "width": null
     }
    },
    "f9e6d428a00c4ea99eed72fcbcfe752e": {
     "model_module": "@jupyter-widgets/controls",
     "model_name": "HBoxModel",
     "state": {
      "_dom_classes": [],
      "_model_module": "@jupyter-widgets/controls",
      "_model_module_version": "1.5.0",
      "_model_name": "HBoxModel",
      "_view_count": null,
      "_view_module": "@jupyter-widgets/controls",
      "_view_module_version": "1.5.0",
      "_view_name": "HBoxView",
      "box_style": "",
      "children": [
       "IPY_MODEL_128bb7fd0184407ab6ccb2c394a0475f",
       "IPY_MODEL_1827e0af1c88436aacad270935cb66b7"
      ],
      "layout": "IPY_MODEL_a17512c911574434bfe33d0ff229fbb2"
     }
    }
   }
  }
 },
 "nbformat": 4,
 "nbformat_minor": 1
}
